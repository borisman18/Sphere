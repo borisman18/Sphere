{
 "cells": [
  {
   "cell_type": "markdown",
   "metadata": {},
   "source": [
    "# Алгоритмы интеллектуальной обработки больших объемов данных\n",
    "## Домашнее задание №1 - Метод k-средних, предобработка признаков\n"
   ]
  },
  {
   "cell_type": "markdown",
   "metadata": {},
   "source": [
    "# <hr\\>\n",
    "**Общая информация**\n",
    "\n",
    "**Срок сдачи:** до 7 октября 2017, 06:00   \n",
    "**Штраф за опоздание:** -2 балла после 06:00 7 октября, -4 балла после 06:00 14 октября, -6 баллов после 06:00 21 октября\n",
    "\n",
    "При отправлении ДЗ указывайте фамилию в названии файла   \n",
    "\n",
    "\n",
    "Присылать ДЗ необходимо в виде ссылки на свой github репозиторий в slack @alkhamush\n",
    "Необходимо в slack создать таск в приватный чат:   \n",
    "/todo Фамилия Имя *ссылка на гитхаб* @alkhamush   \n",
    "Пример:   \n",
    "/todo Ксения Стройкова https://github.com/stroykova/spheremailru/stroykova_hw1.ipynb @alkhamush   \n",
    "\n",
    "Используйте данный Ipython Notebook при оформлении домашнего задания.\n",
    "<hr\\>"
   ]
  },
  {
   "cell_type": "markdown",
   "metadata": {},
   "source": [
    "# Первое задание - указать фамилию в имени файла"
   ]
  },
  {
   "cell_type": "code",
   "execution_count": 1,
   "metadata": {
    "collapsed": true
   },
   "outputs": [],
   "source": [
    "import pandas as pd\n",
    "import numpy as np\n",
    "import matplotlib.pyplot as plt\n",
    "import sklearn\n",
    "%matplotlib inline\n",
    "\n",
    "plt.style.use('ggplot')\n",
    "plt.rcParams['figure.figsize'] = (12,5)"
   ]
  },
  {
   "cell_type": "markdown",
   "metadata": {},
   "source": [
    "# Пролог: Модуль sklearn\n",
    "На наших практических занятиях мы будем использовать [sklearn](http://scikit-learn.org/stable/index.html) (scikit-learn) - наиболее популярный модуль для работы с методами машинного обучения и анализа данных.\n",
    "\n",
    "Этот модуль регулярно обновляется, расширяется и сопровождается примерами использования тех или иных методов. Помимо самих алгоритмов (например k-средних или линейной регрессии) в нем есть множество вспомогательных функций по работе с данными."
   ]
  },
  {
   "cell_type": "markdown",
   "metadata": {},
   "source": [
    "# Туториал: Работа с различными типами признаков"
   ]
  },
  {
   "cell_type": "markdown",
   "metadata": {},
   "source": [
    "Вспомним какие типы признаков могут встретится при описании объектов исследования и как их представить в доступной для обработки компьтером форме"
   ]
  },
  {
   "cell_type": "markdown",
   "metadata": {},
   "source": [
    "Типы признаков мы будем рассматривать на примере довольно популярного набора данных [titanic](https://www.kaggle.com/c/titanic/download/train.csv) - информации о выживаемости пассажиров после известной трагедии корабля Titanic."
   ]
  },
  {
   "cell_type": "raw",
   "metadata": {},
   "source": [
    "ARIABLE DESCRIPTIONS:\n",
    "survival        Survival\n",
    "                (0 = No; 1 = Yes)\n",
    "pclass          Passenger Class\n",
    "                (1 = 1st; 2 = 2nd; 3 = 3rd)\n",
    "name            Name\n",
    "sex             Sex\n",
    "age             Age\n",
    "sibsp           Number of Siblings/Spouses Aboard\n",
    "parch           Number of Parents/Children Aboard\n",
    "ticket          Ticket Number\n",
    "fare            Passenger Fare\n",
    "cabin           Cabin\n",
    "embarked        Port of Embarkation\n",
    "                (C = Cherbourg; Q = Queenstown; S = Southampton)"
   ]
  },
  {
   "cell_type": "code",
   "execution_count": 63,
   "metadata": {},
   "outputs": [
    {
     "data": {
      "text/html": [
       "<div>\n",
       "<style>\n",
       "    .dataframe thead tr:only-child th {\n",
       "        text-align: right;\n",
       "    }\n",
       "\n",
       "    .dataframe thead th {\n",
       "        text-align: left;\n",
       "    }\n",
       "\n",
       "    .dataframe tbody tr th {\n",
       "        vertical-align: top;\n",
       "    }\n",
       "</style>\n",
       "<table border=\"1\" class=\"dataframe\">\n",
       "  <thead>\n",
       "    <tr style=\"text-align: right;\">\n",
       "      <th></th>\n",
       "      <th>PassengerId</th>\n",
       "      <th>Survived</th>\n",
       "      <th>Pclass</th>\n",
       "      <th>Name</th>\n",
       "      <th>Sex</th>\n",
       "      <th>Age</th>\n",
       "      <th>SibSp</th>\n",
       "      <th>Parch</th>\n",
       "      <th>Ticket</th>\n",
       "      <th>Fare</th>\n",
       "      <th>Cabin</th>\n",
       "      <th>Embarked</th>\n",
       "    </tr>\n",
       "  </thead>\n",
       "  <tbody>\n",
       "    <tr>\n",
       "      <th>1</th>\n",
       "      <td>2</td>\n",
       "      <td>1</td>\n",
       "      <td>1</td>\n",
       "      <td>Cumings, Mrs. John Bradley (Florence Briggs Th...</td>\n",
       "      <td>female</td>\n",
       "      <td>38.0</td>\n",
       "      <td>1</td>\n",
       "      <td>0</td>\n",
       "      <td>PC 17599</td>\n",
       "      <td>71.2833</td>\n",
       "      <td>C85</td>\n",
       "      <td>C</td>\n",
       "    </tr>\n",
       "    <tr>\n",
       "      <th>3</th>\n",
       "      <td>4</td>\n",
       "      <td>1</td>\n",
       "      <td>1</td>\n",
       "      <td>Futrelle, Mrs. Jacques Heath (Lily May Peel)</td>\n",
       "      <td>female</td>\n",
       "      <td>35.0</td>\n",
       "      <td>1</td>\n",
       "      <td>0</td>\n",
       "      <td>113803</td>\n",
       "      <td>53.1000</td>\n",
       "      <td>C123</td>\n",
       "      <td>S</td>\n",
       "    </tr>\n",
       "    <tr>\n",
       "      <th>6</th>\n",
       "      <td>7</td>\n",
       "      <td>0</td>\n",
       "      <td>1</td>\n",
       "      <td>McCarthy, Mr. Timothy J</td>\n",
       "      <td>male</td>\n",
       "      <td>54.0</td>\n",
       "      <td>0</td>\n",
       "      <td>0</td>\n",
       "      <td>17463</td>\n",
       "      <td>51.8625</td>\n",
       "      <td>E46</td>\n",
       "      <td>S</td>\n",
       "    </tr>\n",
       "    <tr>\n",
       "      <th>10</th>\n",
       "      <td>11</td>\n",
       "      <td>1</td>\n",
       "      <td>3</td>\n",
       "      <td>Sandstrom, Miss. Marguerite Rut</td>\n",
       "      <td>female</td>\n",
       "      <td>4.0</td>\n",
       "      <td>1</td>\n",
       "      <td>1</td>\n",
       "      <td>PP 9549</td>\n",
       "      <td>16.7000</td>\n",
       "      <td>G6</td>\n",
       "      <td>S</td>\n",
       "    </tr>\n",
       "    <tr>\n",
       "      <th>11</th>\n",
       "      <td>12</td>\n",
       "      <td>1</td>\n",
       "      <td>1</td>\n",
       "      <td>Bonnell, Miss. Elizabeth</td>\n",
       "      <td>female</td>\n",
       "      <td>58.0</td>\n",
       "      <td>0</td>\n",
       "      <td>0</td>\n",
       "      <td>113783</td>\n",
       "      <td>26.5500</td>\n",
       "      <td>C103</td>\n",
       "      <td>S</td>\n",
       "    </tr>\n",
       "  </tbody>\n",
       "</table>\n",
       "</div>"
      ],
      "text/plain": [
       "    PassengerId  Survived  Pclass  \\\n",
       "1             2         1       1   \n",
       "3             4         1       1   \n",
       "6             7         0       1   \n",
       "10           11         1       3   \n",
       "11           12         1       1   \n",
       "\n",
       "                                                 Name     Sex   Age  SibSp  \\\n",
       "1   Cumings, Mrs. John Bradley (Florence Briggs Th...  female  38.0      1   \n",
       "3        Futrelle, Mrs. Jacques Heath (Lily May Peel)  female  35.0      1   \n",
       "6                             McCarthy, Mr. Timothy J    male  54.0      0   \n",
       "10                    Sandstrom, Miss. Marguerite Rut  female   4.0      1   \n",
       "11                           Bonnell, Miss. Elizabeth  female  58.0      0   \n",
       "\n",
       "    Parch    Ticket     Fare Cabin Embarked  \n",
       "1       0  PC 17599  71.2833   C85        C  \n",
       "3       0    113803  53.1000  C123        S  \n",
       "6       0     17463  51.8625   E46        S  \n",
       "10      1   PP 9549  16.7000    G6        S  \n",
       "11      0    113783  26.5500  C103        S  "
      ]
     },
     "execution_count": 63,
     "metadata": {},
     "output_type": "execute_result"
    }
   ],
   "source": [
    "df_titanic = pd.read_csv('train.csv', sep=',').dropna()\n",
    "df_titanic.head()"
   ]
  },
  {
   "cell_type": "markdown",
   "metadata": {},
   "source": [
    "## Бинарные признаки\n",
    "Это признаки с двумя возможными значениями\n",
    "* Пол (мужской, женский)\n",
    "* Выжил (да, нет)\n",
    "\n",
    "На вход в алгоритмы обычно подаются в виде значений `{0, 1}` (реже в виде `{-1, 1}`)"
   ]
  },
  {
   "cell_type": "code",
   "execution_count": 64,
   "metadata": {},
   "outputs": [
    {
     "data": {
      "text/plain": [
       "1    123\n",
       "0     60\n",
       "Name: Survived, dtype: int64"
      ]
     },
     "execution_count": 64,
     "metadata": {},
     "output_type": "execute_result"
    }
   ],
   "source": [
    "# Здесь все нормально\n",
    "df_titanic.Survived.value_counts()"
   ]
  },
  {
   "cell_type": "code",
   "execution_count": 65,
   "metadata": {},
   "outputs": [
    {
     "data": {
      "text/plain": [
       "male      95\n",
       "female    88\n",
       "Name: Sex, dtype: int64"
      ]
     },
     "execution_count": 65,
     "metadata": {},
     "output_type": "execute_result"
    }
   ],
   "source": [
    "# Тут стоит выполнить переобознаение\n",
    "df_titanic.Sex.value_counts()"
   ]
  },
  {
   "cell_type": "code",
   "execution_count": 66,
   "metadata": {},
   "outputs": [
    {
     "data": {
      "text/plain": [
       "0    95\n",
       "1    88\n",
       "Name: Sex, dtype: int64"
      ]
     },
     "execution_count": 66,
     "metadata": {},
     "output_type": "execute_result"
    }
   ],
   "source": [
    "# Например так\n",
    "df_titanic.Sex = df_titanic.Sex.replace({'male': 0, 'female': 1})\n",
    "df_titanic.Sex.value_counts()"
   ]
  },
  {
   "cell_type": "markdown",
   "metadata": {},
   "source": [
    "## Вещественные признаки\n",
    "\n",
    "* Возраст\n",
    "* Сумма, потраченная на билет\n",
    "* Количество родственников на борту\n",
    "\n",
    "Как правило остаются в том же виде или выполняется **нормализация** признаков, т.е. переход к одинаковой шкале, например:\n",
    "\n",
    "* $\\tilde{x} = \\frac{x - \\text{mean}(x)}{\\text{std}(x)}$\n",
    "* $\\tilde{x} = \\frac{x - \\text{min}(x)}{\\text{max}(x) - \\text{min}(x)}$"
   ]
  },
  {
   "cell_type": "markdown",
   "metadata": {},
   "source": [
    "## Категориальные признаки\n",
    "\n",
    "Принимают значения из *неупорядоченного* множества\n",
    "\n",
    "* Порт погрузки (C = Cherbourg; Q = Queenstown; S = Southampton)\n",
    "* Точка отправления (St Louis, MO; Montreal, PQ; .. }\n",
    "* Точка назначения (Chesterville, ON; Roseville, IL; .. }\n",
    "\n",
    "Обычно такие признаки кодируют с помощью так называемого One Hot Encoding: </br>\n",
    "для каждой категории создается бинарная маска-столбец, в которой стоит `1` если значение признака равно значению соответствующей категории категории.\n",
    "\n",
    "Например, для признака \"порт погрзки\" создается бинарная макска из трех стобцов для каждого из портов: С, Q, S<br/>\n",
    "Если пассажир заходил на кораблю в порту Southampton, то его признаковое описание будет соответственно: `[0, 0, 1]`"
   ]
  },
  {
   "cell_type": "code",
   "execution_count": 67,
   "metadata": {},
   "outputs": [
    {
     "data": {
      "text/plain": [
       "1     C\n",
       "3     S\n",
       "6     S\n",
       "10    S\n",
       "11    S\n",
       "Name: Embarked, dtype: object"
      ]
     },
     "execution_count": 67,
     "metadata": {},
     "output_type": "execute_result"
    }
   ],
   "source": [
    "df_titanic.Embarked.head()"
   ]
  },
  {
   "cell_type": "code",
   "execution_count": 68,
   "metadata": {},
   "outputs": [
    {
     "data": {
      "text/html": [
       "<div>\n",
       "<style>\n",
       "    .dataframe thead tr:only-child th {\n",
       "        text-align: right;\n",
       "    }\n",
       "\n",
       "    .dataframe thead th {\n",
       "        text-align: left;\n",
       "    }\n",
       "\n",
       "    .dataframe tbody tr th {\n",
       "        vertical-align: top;\n",
       "    }\n",
       "</style>\n",
       "<table border=\"1\" class=\"dataframe\">\n",
       "  <thead>\n",
       "    <tr style=\"text-align: right;\">\n",
       "      <th></th>\n",
       "      <th>Embarked=C</th>\n",
       "      <th>Embarked=Q</th>\n",
       "      <th>Embarked=S</th>\n",
       "    </tr>\n",
       "  </thead>\n",
       "  <tbody>\n",
       "    <tr>\n",
       "      <th>1</th>\n",
       "      <td>1</td>\n",
       "      <td>0</td>\n",
       "      <td>0</td>\n",
       "    </tr>\n",
       "    <tr>\n",
       "      <th>3</th>\n",
       "      <td>0</td>\n",
       "      <td>0</td>\n",
       "      <td>1</td>\n",
       "    </tr>\n",
       "    <tr>\n",
       "      <th>6</th>\n",
       "      <td>0</td>\n",
       "      <td>0</td>\n",
       "      <td>1</td>\n",
       "    </tr>\n",
       "    <tr>\n",
       "      <th>10</th>\n",
       "      <td>0</td>\n",
       "      <td>0</td>\n",
       "      <td>1</td>\n",
       "    </tr>\n",
       "    <tr>\n",
       "      <th>11</th>\n",
       "      <td>0</td>\n",
       "      <td>0</td>\n",
       "      <td>1</td>\n",
       "    </tr>\n",
       "  </tbody>\n",
       "</table>\n",
       "</div>"
      ],
      "text/plain": [
       "    Embarked=C  Embarked=Q  Embarked=S\n",
       "1            1           0           0\n",
       "3            0           0           1\n",
       "6            0           0           1\n",
       "10           0           0           1\n",
       "11           0           0           1"
      ]
     },
     "execution_count": 68,
     "metadata": {},
     "output_type": "execute_result"
    }
   ],
   "source": [
    "# Сделать в python это можно несколькими способами:\n",
    "\n",
    "# 1: Через pandas (не очень рекомендуется)\n",
    "emb = pd.get_dummies(df_titanic.Embarked, prefix='Embarked', prefix_sep='=')\n",
    "emb.head()"
   ]
  },
  {
   "cell_type": "code",
   "execution_count": 69,
   "metadata": {},
   "outputs": [
    {
     "data": {
      "text/plain": [
       "array([[ 1.,  0.,  0.],\n",
       "       [ 0.,  0.,  1.],\n",
       "       [ 0.,  0.,  1.],\n",
       "       [ 0.,  0.,  1.],\n",
       "       [ 0.,  0.,  1.]])"
      ]
     },
     "execution_count": 69,
     "metadata": {},
     "output_type": "execute_result"
    }
   ],
   "source": [
    "# 2: Функционал sklearn\n",
    "from sklearn.preprocessing import OneHotEncoder\n",
    "\n",
    "encoder = OneHotEncoder(sparse=False)\n",
    "\n",
    "emb = df_titanic.loc[:, ['Embarked']].replace({'C': 0, 'Q': 1, 'S': 2}).values\n",
    "emb_enc = encoder.fit_transform(emb)\n",
    "emb_enc[:5]"
   ]
  },
  {
   "cell_type": "markdown",
   "metadata": {},
   "source": [
    "Про другием способы работы с категориальными переменными можно прочитать вот [тут](https://alexanderdyakonov.wordpress.com/2016/08/03/python-%D0%BA%D0%B0%D1%82%D0%B5%D0%B3%D0%BE%D1%80%D0%B8%D0%B0%D0%BB%D1%8C%D0%BD%D1%8B%D0%B5-%D0%BF%D1%80%D0%B8%D0%B7%D0%BD%D0%B0%D0%BA%D0%B8/)"
   ]
  },
  {
   "cell_type": "markdown",
   "metadata": {},
   "source": [
    "## Порядковый признаки"
   ]
  },
  {
   "cell_type": "markdown",
   "metadata": {},
   "source": [
    "Принимают значения из *упорядоченного* множества\n",
    "\n",
    "* Класс каюты (1 > 2 > 3)\n",
    "\n",
    "В зависимости от метода остаются можно оставить в исходном виде или применить OneHotEncoding."
   ]
  },
  {
   "cell_type": "markdown",
   "metadata": {},
   "source": [
    "## Текстовые признаки - Bag of words"
   ]
  },
  {
   "cell_type": "markdown",
   "metadata": {},
   "source": [
    "Для демонстрации возьмем текст стихотворения Блока:\n",
    "\n",
    "Ночь, улица, фонарь, аптека,<br/>\n",
    "Бессмысленный и тусклый свет.<br/>\n",
    "Живи еще хоть четверть века -<br/>\n",
    "Все будет так. Исхода нет.<br/>\n",
    "\n",
    "Умрешь - начнешь опять сначала<br/>\n",
    "И повторится все, как встарь:<br/>\n",
    "Ночь, ледяная рябь канала,<br/>\n",
    "Аптека, улица, фонарь.<br/>\n",
    "\n",
    "Пусть каждая строчка - это будет условный документ. Переведем эти документы в числовое представление по методу мешка слов (Bag Of Words)"
   ]
  },
  {
   "cell_type": "code",
   "execution_count": 70,
   "metadata": {
    "collapsed": true
   },
   "outputs": [],
   "source": [
    "from sklearn.feature_extraction.text import CountVectorizer\n",
    "from sklearn.feature_extraction.text import TfidfVectorizer\n",
    "\n",
    "corpus = \\\n",
    "[u'Ночь, улица, фонарь, аптека,',\n",
    " u'Бессмысленный и тусклый свет.',\n",
    " u'Живи еще хоть четверть века -',\n",
    " u'Все будет так. Исхода нет.',\n",
    " u'Умрешь - начнешь опять сначала',\n",
    " u'И повторится все, как встарь:',\n",
    " u'Ночь, ледяная рябь канала,',\n",
    " u'Аптека, улица, фонарь.']"
   ]
  },
  {
   "cell_type": "code",
   "execution_count": 71,
   "metadata": {},
   "outputs": [
    {
     "data": {
      "text/plain": [
       "(8L, 27L)"
      ]
     },
     "execution_count": 71,
     "metadata": {},
     "output_type": "execute_result"
    }
   ],
   "source": [
    "vect = CountVectorizer()\n",
    "\n",
    "bow = vect.fit_transform(corpus)\n",
    "bow = bow.toarray()\n",
    "bow.shape"
   ]
  },
  {
   "cell_type": "markdown",
   "metadata": {},
   "source": [
    "Получили матрицу размера $8 \\times 27$, так как у нас 8 строчек и выделилось 27 униальных слов. Элемент матрицы показывает сколько раз слово встречалось в соответствующем документе."
   ]
  },
  {
   "cell_type": "code",
   "execution_count": 72,
   "metadata": {},
   "outputs": [
    {
     "data": {
      "text/plain": [
       "array([[1, 0, 0, 0, 0, 0, 0, 0, 0, 0, 0, 0, 0, 0, 1, 0, 0, 0, 0, 0, 0, 0,\n",
       "        1, 0, 1, 0, 0],\n",
       "       [0, 1, 0, 0, 0, 0, 0, 0, 0, 0, 0, 0, 0, 0, 0, 0, 0, 0, 1, 0, 0, 1,\n",
       "        0, 0, 0, 0, 0],\n",
       "       [0, 0, 0, 1, 0, 0, 1, 1, 0, 0, 0, 0, 0, 0, 0, 0, 0, 0, 0, 0, 0, 0,\n",
       "        0, 0, 0, 1, 1],\n",
       "       [0, 0, 1, 0, 1, 0, 0, 0, 1, 0, 0, 0, 0, 1, 0, 0, 0, 0, 0, 0, 1, 0,\n",
       "        0, 0, 0, 0, 0],\n",
       "       [0, 0, 0, 0, 0, 0, 0, 0, 0, 0, 0, 0, 1, 0, 0, 1, 0, 0, 0, 1, 0, 0,\n",
       "        0, 1, 0, 0, 0],\n",
       "       [0, 0, 0, 0, 1, 1, 0, 0, 0, 1, 0, 0, 0, 0, 0, 0, 1, 0, 0, 0, 0, 0,\n",
       "        0, 0, 0, 0, 0],\n",
       "       [0, 0, 0, 0, 0, 0, 0, 0, 0, 0, 1, 1, 0, 0, 1, 0, 0, 1, 0, 0, 0, 0,\n",
       "        0, 0, 0, 0, 0],\n",
       "       [1, 0, 0, 0, 0, 0, 0, 0, 0, 0, 0, 0, 0, 0, 0, 0, 0, 0, 0, 0, 0, 0,\n",
       "        1, 0, 1, 0, 0]], dtype=int64)"
      ]
     },
     "execution_count": 72,
     "metadata": {},
     "output_type": "execute_result"
    }
   ],
   "source": [
    "bow"
   ]
  },
  {
   "cell_type": "code",
   "execution_count": 73,
   "metadata": {},
   "outputs": [
    {
     "name": "stdout",
     "output_type": "stream",
     "text": [
      "столбец 0: аптека\n",
      "столбец 1: бессмысленный\n",
      "столбец 2: будет\n",
      "столбец 3: века\n",
      "столбец 4: все\n",
      "столбец 5: встарь\n",
      "столбец 6: еще\n",
      "столбец 7: живи\n",
      "столбец 8: исхода\n",
      "столбец 9: как\n",
      "столбец 10: канала\n",
      "столбец 11: ледяная\n",
      "столбец 12: начнешь\n",
      "столбец 13: нет\n",
      "столбец 14: ночь\n",
      "столбец 15: опять\n",
      "столбец 16: повторится\n",
      "столбец 17: рябь\n",
      "столбец 18: свет\n",
      "столбец 19: сначала\n",
      "столбец 20: так\n",
      "столбец 21: тусклый\n",
      "столбец 22: улица\n",
      "столбец 23: умрешь\n",
      "столбец 24: фонарь\n",
      "столбец 25: хоть\n",
      "столбец 26: четверть\n"
     ]
    }
   ],
   "source": [
    "# Посмотрим какие слова стоят по столбцам\n",
    "for i, w in enumerate(vect.get_feature_names()):\n",
    "    print u'столбец %d: %s' % (i, w)"
   ]
  },
  {
   "cell_type": "markdown",
   "metadata": {},
   "source": [
    "# Туториал: Имплементация собственного метода"
   ]
  },
  {
   "cell_type": "markdown",
   "metadata": {},
   "source": [
    "Для решения задач вида \"имплементируйте метод X\" крайне желательно (но необязательно) реализовывать методы с помощью интерфейса sklearn. Ниже вы увидите пример очень простого **классификатора**. Используйте эти наработи для выполнения задания."
   ]
  },
  {
   "cell_type": "markdown",
   "metadata": {},
   "source": [
    "Загрузите [датасет](https://archive.ics.uci.edu/ml/machine-learning-databases/wine-quality/winequality-red.csv) с информацией о характеристиках вина и его качестве. (В метод `pd.read_csv()` можно подать веб-ссылку на данные и пандас их скачает и преобразует в `DataFrame`)."
   ]
  },
  {
   "cell_type": "code",
   "execution_count": 74,
   "metadata": {
    "collapsed": true
   },
   "outputs": [],
   "source": [
    "df_wine = pd.read_csv('winequality-red.csv', sep=';')"
   ]
  },
  {
   "cell_type": "code",
   "execution_count": 75,
   "metadata": {},
   "outputs": [
    {
     "data": {
      "text/html": [
       "<div>\n",
       "<style>\n",
       "    .dataframe thead tr:only-child th {\n",
       "        text-align: right;\n",
       "    }\n",
       "\n",
       "    .dataframe thead th {\n",
       "        text-align: left;\n",
       "    }\n",
       "\n",
       "    .dataframe tbody tr th {\n",
       "        vertical-align: top;\n",
       "    }\n",
       "</style>\n",
       "<table border=\"1\" class=\"dataframe\">\n",
       "  <thead>\n",
       "    <tr style=\"text-align: right;\">\n",
       "      <th></th>\n",
       "      <th>fixed acidity</th>\n",
       "      <th>volatile acidity</th>\n",
       "      <th>citric acid</th>\n",
       "      <th>residual sugar</th>\n",
       "      <th>chlorides</th>\n",
       "      <th>free sulfur dioxide</th>\n",
       "      <th>total sulfur dioxide</th>\n",
       "      <th>density</th>\n",
       "      <th>pH</th>\n",
       "      <th>sulphates</th>\n",
       "      <th>alcohol</th>\n",
       "      <th>quality</th>\n",
       "    </tr>\n",
       "  </thead>\n",
       "  <tbody>\n",
       "    <tr>\n",
       "      <th>0</th>\n",
       "      <td>7.4</td>\n",
       "      <td>0.70</td>\n",
       "      <td>0.00</td>\n",
       "      <td>1.9</td>\n",
       "      <td>0.076</td>\n",
       "      <td>11.0</td>\n",
       "      <td>34.0</td>\n",
       "      <td>0.9978</td>\n",
       "      <td>3.51</td>\n",
       "      <td>0.56</td>\n",
       "      <td>9.4</td>\n",
       "      <td>5</td>\n",
       "    </tr>\n",
       "    <tr>\n",
       "      <th>1</th>\n",
       "      <td>7.8</td>\n",
       "      <td>0.88</td>\n",
       "      <td>0.00</td>\n",
       "      <td>2.6</td>\n",
       "      <td>0.098</td>\n",
       "      <td>25.0</td>\n",
       "      <td>67.0</td>\n",
       "      <td>0.9968</td>\n",
       "      <td>3.20</td>\n",
       "      <td>0.68</td>\n",
       "      <td>9.8</td>\n",
       "      <td>5</td>\n",
       "    </tr>\n",
       "    <tr>\n",
       "      <th>2</th>\n",
       "      <td>7.8</td>\n",
       "      <td>0.76</td>\n",
       "      <td>0.04</td>\n",
       "      <td>2.3</td>\n",
       "      <td>0.092</td>\n",
       "      <td>15.0</td>\n",
       "      <td>54.0</td>\n",
       "      <td>0.9970</td>\n",
       "      <td>3.26</td>\n",
       "      <td>0.65</td>\n",
       "      <td>9.8</td>\n",
       "      <td>5</td>\n",
       "    </tr>\n",
       "    <tr>\n",
       "      <th>3</th>\n",
       "      <td>11.2</td>\n",
       "      <td>0.28</td>\n",
       "      <td>0.56</td>\n",
       "      <td>1.9</td>\n",
       "      <td>0.075</td>\n",
       "      <td>17.0</td>\n",
       "      <td>60.0</td>\n",
       "      <td>0.9980</td>\n",
       "      <td>3.16</td>\n",
       "      <td>0.58</td>\n",
       "      <td>9.8</td>\n",
       "      <td>6</td>\n",
       "    </tr>\n",
       "    <tr>\n",
       "      <th>4</th>\n",
       "      <td>7.4</td>\n",
       "      <td>0.70</td>\n",
       "      <td>0.00</td>\n",
       "      <td>1.9</td>\n",
       "      <td>0.076</td>\n",
       "      <td>11.0</td>\n",
       "      <td>34.0</td>\n",
       "      <td>0.9978</td>\n",
       "      <td>3.51</td>\n",
       "      <td>0.56</td>\n",
       "      <td>9.4</td>\n",
       "      <td>5</td>\n",
       "    </tr>\n",
       "  </tbody>\n",
       "</table>\n",
       "</div>"
      ],
      "text/plain": [
       "   fixed acidity  volatile acidity  citric acid  residual sugar  chlorides  \\\n",
       "0            7.4              0.70         0.00             1.9      0.076   \n",
       "1            7.8              0.88         0.00             2.6      0.098   \n",
       "2            7.8              0.76         0.04             2.3      0.092   \n",
       "3           11.2              0.28         0.56             1.9      0.075   \n",
       "4            7.4              0.70         0.00             1.9      0.076   \n",
       "\n",
       "   free sulfur dioxide  total sulfur dioxide  density    pH  sulphates  \\\n",
       "0                 11.0                  34.0   0.9978  3.51       0.56   \n",
       "1                 25.0                  67.0   0.9968  3.20       0.68   \n",
       "2                 15.0                  54.0   0.9970  3.26       0.65   \n",
       "3                 17.0                  60.0   0.9980  3.16       0.58   \n",
       "4                 11.0                  34.0   0.9978  3.51       0.56   \n",
       "\n",
       "   alcohol  quality  \n",
       "0      9.4        5  \n",
       "1      9.8        5  \n",
       "2      9.8        5  \n",
       "3      9.8        6  \n",
       "4      9.4        5  "
      ]
     },
     "execution_count": 75,
     "metadata": {},
     "output_type": "execute_result"
    }
   ],
   "source": [
    "df_wine.head()"
   ]
  },
  {
   "cell_type": "markdown",
   "metadata": {},
   "source": [
    "Наша задача состоит в предсказании целевого признака `quality` по остальным признакам. `quality` - это вещественная переменная (оценка качества от 0 до 10). Упростим себе задачу - создадим новый столбец `quality_cat` по следующим правилам:\n",
    "\n",
    "* `quality_cat = 1` если `quality > 5` \n",
    "* `quality_cat = 0` - иначе \n",
    "\n",
    "Таким образом, `quality_cat` характерует \"плохое\" и \"хорошее\" вино."
   ]
  },
  {
   "cell_type": "code",
   "execution_count": 76,
   "metadata": {
    "collapsed": true
   },
   "outputs": [],
   "source": [
    "def prepocess_wine(df):\n",
    "    df.loc[:, 'quality_cat'] = (df.loc[:, 'quality'] > 5).astype(int)\n",
    "    df = df.drop('quality', axis=1)\n",
    "    \n",
    "    return df"
   ]
  },
  {
   "cell_type": "code",
   "execution_count": 77,
   "metadata": {},
   "outputs": [
    {
     "data": {
      "text/html": [
       "<div>\n",
       "<style>\n",
       "    .dataframe thead tr:only-child th {\n",
       "        text-align: right;\n",
       "    }\n",
       "\n",
       "    .dataframe thead th {\n",
       "        text-align: left;\n",
       "    }\n",
       "\n",
       "    .dataframe tbody tr th {\n",
       "        vertical-align: top;\n",
       "    }\n",
       "</style>\n",
       "<table border=\"1\" class=\"dataframe\">\n",
       "  <thead>\n",
       "    <tr style=\"text-align: right;\">\n",
       "      <th></th>\n",
       "      <th>fixed acidity</th>\n",
       "      <th>volatile acidity</th>\n",
       "      <th>citric acid</th>\n",
       "      <th>residual sugar</th>\n",
       "      <th>chlorides</th>\n",
       "      <th>free sulfur dioxide</th>\n",
       "      <th>total sulfur dioxide</th>\n",
       "      <th>density</th>\n",
       "      <th>pH</th>\n",
       "      <th>sulphates</th>\n",
       "      <th>alcohol</th>\n",
       "      <th>quality_cat</th>\n",
       "    </tr>\n",
       "  </thead>\n",
       "  <tbody>\n",
       "    <tr>\n",
       "      <th>0</th>\n",
       "      <td>7.4</td>\n",
       "      <td>0.70</td>\n",
       "      <td>0.00</td>\n",
       "      <td>1.9</td>\n",
       "      <td>0.076</td>\n",
       "      <td>11.0</td>\n",
       "      <td>34.0</td>\n",
       "      <td>0.9978</td>\n",
       "      <td>3.51</td>\n",
       "      <td>0.56</td>\n",
       "      <td>9.4</td>\n",
       "      <td>0</td>\n",
       "    </tr>\n",
       "    <tr>\n",
       "      <th>1</th>\n",
       "      <td>7.8</td>\n",
       "      <td>0.88</td>\n",
       "      <td>0.00</td>\n",
       "      <td>2.6</td>\n",
       "      <td>0.098</td>\n",
       "      <td>25.0</td>\n",
       "      <td>67.0</td>\n",
       "      <td>0.9968</td>\n",
       "      <td>3.20</td>\n",
       "      <td>0.68</td>\n",
       "      <td>9.8</td>\n",
       "      <td>0</td>\n",
       "    </tr>\n",
       "    <tr>\n",
       "      <th>2</th>\n",
       "      <td>7.8</td>\n",
       "      <td>0.76</td>\n",
       "      <td>0.04</td>\n",
       "      <td>2.3</td>\n",
       "      <td>0.092</td>\n",
       "      <td>15.0</td>\n",
       "      <td>54.0</td>\n",
       "      <td>0.9970</td>\n",
       "      <td>3.26</td>\n",
       "      <td>0.65</td>\n",
       "      <td>9.8</td>\n",
       "      <td>0</td>\n",
       "    </tr>\n",
       "    <tr>\n",
       "      <th>3</th>\n",
       "      <td>11.2</td>\n",
       "      <td>0.28</td>\n",
       "      <td>0.56</td>\n",
       "      <td>1.9</td>\n",
       "      <td>0.075</td>\n",
       "      <td>17.0</td>\n",
       "      <td>60.0</td>\n",
       "      <td>0.9980</td>\n",
       "      <td>3.16</td>\n",
       "      <td>0.58</td>\n",
       "      <td>9.8</td>\n",
       "      <td>1</td>\n",
       "    </tr>\n",
       "    <tr>\n",
       "      <th>4</th>\n",
       "      <td>7.4</td>\n",
       "      <td>0.70</td>\n",
       "      <td>0.00</td>\n",
       "      <td>1.9</td>\n",
       "      <td>0.076</td>\n",
       "      <td>11.0</td>\n",
       "      <td>34.0</td>\n",
       "      <td>0.9978</td>\n",
       "      <td>3.51</td>\n",
       "      <td>0.56</td>\n",
       "      <td>9.4</td>\n",
       "      <td>0</td>\n",
       "    </tr>\n",
       "  </tbody>\n",
       "</table>\n",
       "</div>"
      ],
      "text/plain": [
       "   fixed acidity  volatile acidity  citric acid  residual sugar  chlorides  \\\n",
       "0            7.4              0.70         0.00             1.9      0.076   \n",
       "1            7.8              0.88         0.00             2.6      0.098   \n",
       "2            7.8              0.76         0.04             2.3      0.092   \n",
       "3           11.2              0.28         0.56             1.9      0.075   \n",
       "4            7.4              0.70         0.00             1.9      0.076   \n",
       "\n",
       "   free sulfur dioxide  total sulfur dioxide  density    pH  sulphates  \\\n",
       "0                 11.0                  34.0   0.9978  3.51       0.56   \n",
       "1                 25.0                  67.0   0.9968  3.20       0.68   \n",
       "2                 15.0                  54.0   0.9970  3.26       0.65   \n",
       "3                 17.0                  60.0   0.9980  3.16       0.58   \n",
       "4                 11.0                  34.0   0.9978  3.51       0.56   \n",
       "\n",
       "   alcohol  quality_cat  \n",
       "0      9.4            0  \n",
       "1      9.8            0  \n",
       "2      9.8            0  \n",
       "3      9.8            1  \n",
       "4      9.4            0  "
      ]
     },
     "execution_count": 77,
     "metadata": {},
     "output_type": "execute_result"
    }
   ],
   "source": [
    "df_wine = df_wine.pipe(prepocess_wine)\n",
    "df_wine.head()"
   ]
  },
  {
   "cell_type": "markdown",
   "metadata": {},
   "source": [
    "Нарисуем распределение хорошего и плохого вина по признаку `alcohol`."
   ]
  },
  {
   "cell_type": "code",
   "execution_count": 80,
   "metadata": {},
   "outputs": [
    {
     "data": {
      "text/plain": [
       "<matplotlib.legend.Legend at 0xd2a0898>"
      ]
     },
     "execution_count": 80,
     "metadata": {},
     "output_type": "execute_result"
    },
    {
     "data": {
      "image/png": "[encoded data removed]",
      "text/plain": [
       "<matplotlib.figure.Figure at 0xd2a0390>"
      ]
     },
     "metadata": {},
     "output_type": "display_data"
    }
   ],
   "source": [
    "_, ax = plt.subplots(1,1)\n",
    "df_wine.query('quality_cat == 1').hist('alcohol', alpha=0.3, bins=20, label='good', ax=ax)\n",
    "df_wine.query('quality_cat == 0').hist('alcohol', alpha=0.3, bins=20, label='bad', ax=ax)\n",
    "ax.set_xlabel('alcohol')\n",
    "ax.set_ylabel('count')\n",
    "plt.legend()"
   ]
  },
  {
   "cell_type": "markdown",
   "metadata": {},
   "source": [
    "Визуально кажется, что можно найти некоторое пороговое значение признака `alcohol` $\\theta$, чтобы хорошо дискриминировать между плохими и хорошим вином:\n",
    "* Если `alcohol >` $\\theta$ - то предсказываем, что вино хорошее\n",
    "* Если `alcohol <=` $\\theta$ - то предсказываем, что вино плохое\n",
    "\n",
    "Обучаеть классификатор будем очень просто: перебирать значения признака alchol и считать **ошибку** классификации. То значение, где ошибка минимальна и будет оптимальным.\n",
    "\n",
    "Разделим целевой признак от остальных признаков"
   ]
  },
  {
   "cell_type": "code",
   "execution_count": 165,
   "metadata": {},
   "outputs": [
    {
     "data": {
      "text/plain": [
       "(array([[  7.4  ,   0.7  ,   0.   , ...,   3.51 ,   0.56 ,   9.4  ],\n",
       "        [  7.8  ,   0.88 ,   0.   , ...,   3.2  ,   0.68 ,   9.8  ],\n",
       "        [  7.8  ,   0.76 ,   0.04 , ...,   3.26 ,   0.65 ,   9.8  ],\n",
       "        ..., \n",
       "        [  6.3  ,   0.51 ,   0.13 , ...,   3.42 ,   0.75 ,  11.   ],\n",
       "        [  5.9  ,   0.645,   0.12 , ...,   3.57 ,   0.71 ,  10.2  ],\n",
       "        [  6.   ,   0.31 ,   0.47 , ...,   3.39 ,   0.66 ,  11.   ]]),\n",
       " array([0, 0, 0, ..., 1, 0, 1]))"
      ]
     },
     "execution_count": 165,
     "metadata": {},
     "output_type": "execute_result"
    }
   ],
   "source": [
    "X, y = df_wine.iloc[:, :-1].values, df_wine.iloc[:, -1].values\n",
    "X, y"
   ]
  },
  {
   "cell_type": "markdown",
   "metadata": {},
   "source": [
    "Далее вы увидете пример реализации этого простого классификатора."
   ]
  },
  {
   "cell_type": "code",
   "execution_count": 2,
   "metadata": {
    "collapsed": true
   },
   "outputs": [],
   "source": [
    "from sklearn.base import BaseEstimator, ClassifierMixin\n",
    "\n",
    "class SimpleClassifier(BaseEstimator, ClassifierMixin): \n",
    "    \n",
    "    def __init__(self):\n",
    "        \"\"\"\n",
    "        Инициализация метода\n",
    "        \"\"\"\n",
    "        \n",
    "        self.threshold = 0\n",
    "\n",
    "    def fit(self, X, y=None):\n",
    "        \"\"\"\n",
    "        Выполняет процедуру обучения классификатора. В данном случае - перебор занчения признака alcohol.\n",
    "        Договоримся, что признак alcohol будет в последнем столбце матрицы X\n",
    "        \"\"\"\n",
    "        \n",
    "        alcohol = X[:,-1]\n",
    "        n = float(y.shape[0])\n",
    "        \n",
    "        # Задаем пространство поиска\n",
    "        alco_range = np.arange(alcohol.min(), alcohol.max(), 0.1)\n",
    "        \n",
    "        min_error_rate = 1\n",
    "                \n",
    "        #  Начинаем поиск\n",
    "        for theta in alco_range:\n",
    "            prediction = alcohol > theta\n",
    "            \n",
    "            error_rate = sum(prediction != y)/n\n",
    "            \n",
    "            if error_rate < min_error_rate:\n",
    "                min_error_rate = error_rate\n",
    "                self.threshold = theta  \n",
    "        \n",
    "        return self\n",
    "\n",
    "    def predict(self, X, y=None):\n",
    "        \"\"\"\n",
    "        Процедура предсказания класса по обученному порогу\n",
    "        \"\"\"\n",
    "        \n",
    "        return (X[:,-1] > self.threshold).astype(int)"
   ]
  },
  {
   "cell_type": "markdown",
   "metadata": {},
   "source": [
    "Обучаем модель"
   ]
  },
  {
   "cell_type": "code",
   "execution_count": 104,
   "metadata": {},
   "outputs": [
    {
     "name": "stdout",
     "output_type": "stream",
     "text": [
      "Оптимальный порог: 10.000000\n"
     ]
    }
   ],
   "source": [
    "model = SimpleClassifier()\n",
    "model.fit(X, y)\n",
    "\n",
    "print 'Оптимальный порог: %f' % model.threshold"
   ]
  },
  {
   "cell_type": "markdown",
   "metadata": {},
   "source": [
    "Получаем предсказание модели (на обучающей выборке)"
   ]
  },
  {
   "cell_type": "code",
   "execution_count": 105,
   "metadata": {
    "collapsed": true
   },
   "outputs": [],
   "source": [
    "y_hat = model.predict(X)"
   ]
  },
  {
   "cell_type": "markdown",
   "metadata": {},
   "source": [
    "Оценим долю ошибок на обучающей выборке"
   ]
  },
  {
   "cell_type": "code",
   "execution_count": 106,
   "metadata": {},
   "outputs": [
    {
     "name": "stdout",
     "output_type": "stream",
     "text": [
      "Доля ошибок на обучающей выборке: 0.295184\n"
     ]
    }
   ],
   "source": [
    "error_rate = sum(y_hat != y)/float(y.shape[0])\n",
    "print 'Доля ошибок на обучающей выборке: %f' % error_rate"
   ]
  },
  {
   "cell_type": "markdown",
   "metadata": {},
   "source": [
    "## Проверка метода на контрольной выборке\n",
    "\n",
    "Мы обучили наш метод на данных о красном виде. \n",
    "\n",
    "Посмотрим, выполняется ли так же хорошо закономерность между качеством и уровнем алкоголя в белом вине."
   ]
  },
  {
   "cell_type": "code",
   "execution_count": 108,
   "metadata": {},
   "outputs": [
    {
     "data": {
      "text/html": [
       "<div>\n",
       "<style>\n",
       "    .dataframe thead tr:only-child th {\n",
       "        text-align: right;\n",
       "    }\n",
       "\n",
       "    .dataframe thead th {\n",
       "        text-align: left;\n",
       "    }\n",
       "\n",
       "    .dataframe tbody tr th {\n",
       "        vertical-align: top;\n",
       "    }\n",
       "</style>\n",
       "<table border=\"1\" class=\"dataframe\">\n",
       "  <thead>\n",
       "    <tr style=\"text-align: right;\">\n",
       "      <th></th>\n",
       "      <th>fixed acidity</th>\n",
       "      <th>volatile acidity</th>\n",
       "      <th>citric acid</th>\n",
       "      <th>residual sugar</th>\n",
       "      <th>chlorides</th>\n",
       "      <th>free sulfur dioxide</th>\n",
       "      <th>total sulfur dioxide</th>\n",
       "      <th>density</th>\n",
       "      <th>pH</th>\n",
       "      <th>sulphates</th>\n",
       "      <th>alcohol</th>\n",
       "      <th>quality_cat</th>\n",
       "    </tr>\n",
       "  </thead>\n",
       "  <tbody>\n",
       "    <tr>\n",
       "      <th>0</th>\n",
       "      <td>7.0</td>\n",
       "      <td>0.27</td>\n",
       "      <td>0.36</td>\n",
       "      <td>20.7</td>\n",
       "      <td>0.045</td>\n",
       "      <td>45.0</td>\n",
       "      <td>170.0</td>\n",
       "      <td>1.0010</td>\n",
       "      <td>3.00</td>\n",
       "      <td>0.45</td>\n",
       "      <td>8.8</td>\n",
       "      <td>1</td>\n",
       "    </tr>\n",
       "    <tr>\n",
       "      <th>1</th>\n",
       "      <td>6.3</td>\n",
       "      <td>0.30</td>\n",
       "      <td>0.34</td>\n",
       "      <td>1.6</td>\n",
       "      <td>0.049</td>\n",
       "      <td>14.0</td>\n",
       "      <td>132.0</td>\n",
       "      <td>0.9940</td>\n",
       "      <td>3.30</td>\n",
       "      <td>0.49</td>\n",
       "      <td>9.5</td>\n",
       "      <td>1</td>\n",
       "    </tr>\n",
       "    <tr>\n",
       "      <th>2</th>\n",
       "      <td>8.1</td>\n",
       "      <td>0.28</td>\n",
       "      <td>0.40</td>\n",
       "      <td>6.9</td>\n",
       "      <td>0.050</td>\n",
       "      <td>30.0</td>\n",
       "      <td>97.0</td>\n",
       "      <td>0.9951</td>\n",
       "      <td>3.26</td>\n",
       "      <td>0.44</td>\n",
       "      <td>10.1</td>\n",
       "      <td>1</td>\n",
       "    </tr>\n",
       "    <tr>\n",
       "      <th>3</th>\n",
       "      <td>7.2</td>\n",
       "      <td>0.23</td>\n",
       "      <td>0.32</td>\n",
       "      <td>8.5</td>\n",
       "      <td>0.058</td>\n",
       "      <td>47.0</td>\n",
       "      <td>186.0</td>\n",
       "      <td>0.9956</td>\n",
       "      <td>3.19</td>\n",
       "      <td>0.40</td>\n",
       "      <td>9.9</td>\n",
       "      <td>1</td>\n",
       "    </tr>\n",
       "    <tr>\n",
       "      <th>4</th>\n",
       "      <td>7.2</td>\n",
       "      <td>0.23</td>\n",
       "      <td>0.32</td>\n",
       "      <td>8.5</td>\n",
       "      <td>0.058</td>\n",
       "      <td>47.0</td>\n",
       "      <td>186.0</td>\n",
       "      <td>0.9956</td>\n",
       "      <td>3.19</td>\n",
       "      <td>0.40</td>\n",
       "      <td>9.9</td>\n",
       "      <td>1</td>\n",
       "    </tr>\n",
       "  </tbody>\n",
       "</table>\n",
       "</div>"
      ],
      "text/plain": [
       "   fixed acidity  volatile acidity  citric acid  residual sugar  chlorides  \\\n",
       "0            7.0              0.27         0.36            20.7      0.045   \n",
       "1            6.3              0.30         0.34             1.6      0.049   \n",
       "2            8.1              0.28         0.40             6.9      0.050   \n",
       "3            7.2              0.23         0.32             8.5      0.058   \n",
       "4            7.2              0.23         0.32             8.5      0.058   \n",
       "\n",
       "   free sulfur dioxide  total sulfur dioxide  density    pH  sulphates  \\\n",
       "0                 45.0                 170.0   1.0010  3.00       0.45   \n",
       "1                 14.0                 132.0   0.9940  3.30       0.49   \n",
       "2                 30.0                  97.0   0.9951  3.26       0.44   \n",
       "3                 47.0                 186.0   0.9956  3.19       0.40   \n",
       "4                 47.0                 186.0   0.9956  3.19       0.40   \n",
       "\n",
       "   alcohol  quality_cat  \n",
       "0      8.8            1  \n",
       "1      9.5            1  \n",
       "2     10.1            1  \n",
       "3      9.9            1  \n",
       "4      9.9            1  "
      ]
     },
     "execution_count": 108,
     "metadata": {},
     "output_type": "execute_result"
    }
   ],
   "source": [
    "df_wine_test = pd.read_csv('https://archive.ics.uci.edu/ml/machine-learning-databases/wine-quality/winequality-white.csv',\n",
    "                           sep=';')\n",
    "\n",
    "df_wine_test = df_wine_test.pipe(prepocess_wine)\n",
    "df_wine_test.head()"
   ]
  },
  {
   "cell_type": "code",
   "execution_count": 109,
   "metadata": {
    "collapsed": true
   },
   "outputs": [],
   "source": [
    "X_test, y_test = df_wine_test.iloc[:, :-1].values, df_wine_test.iloc[:, -1].values\n",
    "y_hat = model.predict(X_test)"
   ]
  },
  {
   "cell_type": "code",
   "execution_count": 110,
   "metadata": {},
   "outputs": [
    {
     "name": "stdout",
     "output_type": "stream",
     "text": [
      "Доля ошибок на контрольной выборке: 0.312577\n"
     ]
    }
   ],
   "source": [
    "error_rate = sum(y_hat != y_test)/float(y_test.shape[0])\n",
    "print 'Доля ошибок на контрольной выборке: %f' % error_rate"
   ]
  },
  {
   "cell_type": "markdown",
   "metadata": {},
   "source": [
    "Получилось неплохо и это лишь наивный алгоритм на одном признаке! Ну а выводы делайте сами =)"
   ]
  },
  {
   "cell_type": "markdown",
   "metadata": {},
   "source": [
    "# Имплементация K-means\n",
    "\n",
    "Пользуясь наработками выше, имплементируйте метод k-means.  \n",
    "При инициализации необходимо задавать количество кластеров, функцию расстояния между кластерами (для оригинального k-means - евклидово расстояние) и начальное состояние генератора случайных чисел.\n",
    "\n",
    "После обучения, среди атрибутов класса `Kmeans` должны появится\n",
    "* Метки кластеров для объектов\n",
    "* Координаты центройдов кластеров\n",
    "\n",
    "k-means - это алгоритм **кластеризации**, а не классификации, а посему метод `.predict()` в нем фактически не нужен, но он может возвращать метки ближайшего кластера для объектов."
   ]
  },
  {
   "cell_type": "markdown",
   "metadata": {},
   "source": [
    "###### Задание 1 (2 баллов)\n",
    "Имплементируйте метод k-means\n",
    "\n",
    "Теория для выполнения задания 2 и 3 остаётся на самостоятельное изучение. Теории немного и она совсем простая.\n",
    "\n",
    "###### Задание 2 (2 балла)\n",
    "Имплементируйте класс MiniBatchKMeans, который является классом наследником Kmeans.\n",
    "\n",
    "###### Задание 3 (2 балла)\n",
    "Превратите k-means в k-means++. Для этого нужно реализовать метод в классе Kmeans, который будет инициализировать более \"хорошие\" значения центроидов. Чтобы использовался метод k-means++, в параметр init необходимо передать строковое значение 'k-means' (по умолчанию 'random').\n",
    "\n",
    "###### Задание 4 (2 балла)\n",
    "В пункте \"Проверка корректности метода\" нужно нарисовать графики, которые показывают зависимость времени выполнения алгоритма от количества сэмплов. Графики должны быть  нарисованы для различных комбинаций реализаций алгоритма (k-means, k-means++, k-means с MiniBatchKMeans, k-means++ с MiniBatchKMeans). Для этого рекомендуется использовать инструмент %timeit. График достаточно построить на 5-10 точках.\n",
    "\n",
    "###### Задание 5 (2 балла)\n",
    "В пункте \"Применение K-means на реальных данных\" нужно сравнить различные реализации k-means (k-means, k-means++, k-means с MiniBatchKMeans, k-means++ с MiniBatchKMeans). После чего написать вывод, в котором должно быть объяснение того, почему один алгоритм оказался лучше остальных или почему не было выявлено лучшего алгоритма."
   ]
  },
  {
   "cell_type": "code",
   "execution_count": 2,
   "metadata": {
    "collapsed": true
   },
   "outputs": [],
   "source": [
    "import pandas as pd\n",
    "import matplotlib.pyplot as plt\n",
    "import sklearn\n",
    "import numpy as np\n",
    "import copy\n",
    "import random\n",
    "from sklearn.base import ClusterMixin\n",
    "from sklearn.base import BaseEstimator, ClassifierMixin\n",
    "from scipy.spatial import distance\n",
    "%matplotlib inline\n",
    "\n",
    "plt.style.use('ggplot')\n",
    "plt.rcParams['figure.figsize'] = (12,5)\n",
    "\n",
    "class Kmeans(BaseEstimator, ClusterMixin): \n",
    "    \n",
    "    def __init__(self, k=3, metric='euclidean', max_iter=1000, random_state=None, init='random',eps=0.01):\n",
    "        self.k = k\n",
    "        self.random_state = random_state\n",
    "        self.metric = metric\n",
    "        self.max_iter = max_iter\n",
    "        self.init = init              \n",
    "        self.centroids = np.zeros((self.k,X.shape[1]))   \n",
    "        self.eps = eps\n",
    "    def dist_from_centers(self, X):\n",
    "        cent = self.centroids\n",
    "        distance = np.array([min([np.dot(x-c,x-c)**2 for c in cent]) for x in X])\n",
    "        self.distance = distance\n",
    "    def chose_next(self, X):\n",
    "        self.probs = self.distance/self.distance.sum()\n",
    "        self.cumprobs = self.probs.cumsum()\n",
    "        r = random.random()\n",
    "        ind = np.where(self.cumprobs >= r)[0][0]\n",
    "        return(X[ind])           \n",
    "    def init_centers(self,X):\n",
    "        self.centroids = random.sample(X,1)\n",
    "        while len(self.centroids) < self.k:\n",
    "            self.dist_from_centers(X)\n",
    "            self.centroids.append(self.chose_next(X))       \n",
    "        \n",
    "    def fit(self, X, y=None):\n",
    "        np.random.seed(self.random_state)        \n",
    "        self.labels = np.empty(X.shape[0], dtype=np.int32)  \n",
    "        self.centroids_prev_iteration = np.zeros((self.k, X.shape[1]))\n",
    "        if self.init == 'random': \n",
    "            for i in xrange(self.k):\n",
    "                self.centroids[i] = X[random.randint(0,X.shape[0] - 1)]\n",
    "            \n",
    "        if self.init == 'k-means':\n",
    "            self.init_centers(X)        \n",
    "        for iter_num in xrange(self.max_iter):           \n",
    "            C = np.array([np.argmin([np.dot(x - cent, x - cent) for cent in self.centroids]) for x in X])            \n",
    "            self.centroids = [X[C == k].mean(axis = 0) for k in xrange(self.k)]\n",
    "            move_sum = 0            \n",
    "            for i in xrange(self.k): \n",
    "                try:\n",
    "                    move_sum += distance.euclidean(self.centroids[i],self.centroids_prev_iteration[i])\n",
    "                except ValueError:\n",
    "                    self.centroids[i] = self.centroids_prev_iteration[i]\n",
    "                    continue\n",
    "            move_sum /= self.k\n",
    "            #print 'total centroids moves:' , move_sum      \n",
    "            if move_sum < self.eps:\n",
    "                #print 'iter_num: ' , iter_num\n",
    "                self.labels = C\n",
    "                return self\n",
    "            self.centroids_prev_iteration = copy.copy(self.centroids)\n",
    "        self.labels = C\n",
    "        return self\n",
    "    \n",
    "    def predict(self, X, y=None):       \n",
    "        return self.labels         \n",
    "        \n",
    "        \n",
    "class MiniBatchKMeans(Kmeans):\n",
    "    def init_mini_batch(self, X, b=10):\n",
    "        if self.init == 'random': \n",
    "            for i in xrange(self.k):\n",
    "                self.centroids[i] = X[random.randint(0,X.shape[0] - 1)]\n",
    "        if self.init == 'k-means':\n",
    "            self.init_centers(X)\n",
    "        self.batch_size = b \n",
    "    \n",
    "    def miniBatchFit(self, X):\n",
    "        np.random.seed(self.random_state)\n",
    "        self.labels = np.empty(X.shape[0], dtype=np.int32)  \n",
    "        self.centroids_prev_iteration = np.zeros((self.k, X.shape[1]))\n",
    "        v = np.zeros(self.k)\n",
    "        eps = 0.01        \n",
    "        for iter_num in xrange(self.max_iter):            \n",
    "            mini_batch = random.sample(X,self.batch_size)            \n",
    "            D = np.array([np.argmin([np.dot(x_i-y_k, x_i-y_k) for y_k in self.centroids]) for x_i in mini_batch])            \n",
    "            for i in xrange(len(mini_batch)):          \n",
    "                index = D[i]               \n",
    "                v[index] +=1                \n",
    "                eta = 1 / v[index]\n",
    "                self.centroids[index] = (1 - eta) * self.centroids[index] + eta * mini_batch[i]                \n",
    "            move_sum = 0\n",
    "            for i in xrange(self.k): \n",
    "                try:\n",
    "                    move_sum += distance.euclidean(self.centroids[i],self.centroids_prev_iteration[i])\n",
    "                except ValueError:\n",
    "                    self.centroids[i] = self.centroids_prev_iteration[i]\n",
    "                    continue\n",
    "            move_sum /= self.k    \n",
    "            if move_sum < self.eps:\n",
    "                #print 'iter_num: ', iter_num\n",
    "                self.labels = np.array([np.argmin([np.dot(x_i-y_k, x_i-y_k) for y_k in self.centroids]) for x_i in X]) \n",
    "                return self\n",
    "            self.centroids_prev_iteration = copy.copy(self.centroids)\n",
    "        self.labels = np.array([np.argmin([np.dot(x_i-y_k, x_i-y_k) for y_k in self.centroids]) for x_i in X]) \n"
   ]
  },
  {
   "cell_type": "markdown",
   "metadata": {},
   "source": [
    "### Проверка корректности метода\n",
    "\n",
    "Перед тем как применять алгоритм на реальных данных, нужно испытать его на простых \"игрушечных\" данных.\n",
    "\n",
    "Если алгоритм реализован правильно, то метод должен идеально разбивать на 3 кластера данные ниже. Проверьте это.\n",
    "\n",
    "ВНИМАНИЕ! Проверка должна быть осуществлена на всех реализациях, иначе реализация не будет зачтена!"
   ]
  },
  {
   "cell_type": "code",
   "execution_count": 52,
   "metadata": {
    "collapsed": true
   },
   "outputs": [],
   "source": [
    "from sklearn.datasets import make_blobs\n",
    "import matplotlib"
   ]
  },
  {
   "cell_type": "code",
   "execution_count": 53,
   "metadata": {
    "collapsed": true
   },
   "outputs": [],
   "source": [
    "X, y = make_blobs(n_samples=100, n_features=2, centers=3, cluster_std=1, \n",
    "           center_box=(-10.0, 10.0), shuffle=False, random_state=1234)\n"
   ]
  },
  {
   "cell_type": "code",
   "execution_count": 54,
   "metadata": {
    "scrolled": true
   },
   "outputs": [
    {
     "data": {
      "text/plain": [
       "<matplotlib.collections.PathCollection at 0x10fa7828>"
      ]
     },
     "execution_count": 54,
     "metadata": {},
     "output_type": "execute_result"
    },
    {
     "data": {
      "image/png": "[encoded data removed]",
      "text/plain": [
       "<matplotlib.figure.Figure at 0xe8c48d0>"
      ]
     },
     "metadata": {},
     "output_type": "display_data"
    }
   ],
   "source": [
    "plt.scatter(X[:,0], X[:, 1], c=y)\n"
   ]
  },
  {
   "cell_type": "markdown",
   "metadata": {},
   "source": [
    "Проверьте Вашу имплементацию на простых данных (без этого пункта задание не считается выполненным).   \n",
    "КОММЕНТАРИИ НЕ СТИРАТЬ!"
   ]
  },
  {
   "cell_type": "code",
   "execution_count": 29,
   "metadata": {},
   "outputs": [
    {
     "data": {
      "text/plain": [
       "<matplotlib.collections.PathCollection at 0x11dd0048>"
      ]
     },
     "execution_count": 29,
     "metadata": {},
     "output_type": "execute_result"
    },
    {
     "data": {
      "image/png": "[encoded data removed]",
      "text/plain": [
       "<matplotlib.figure.Figure at 0x11187860>"
      ]
     },
     "metadata": {},
     "output_type": "display_data"
    }
   ],
   "source": [
    "## Работоспособность KMeans\n",
    "\n",
    "from sklearn.datasets import make_blobs\n",
    "import matplotlib\n",
    "X, y = make_blobs(n_samples=100, n_features=2, centers=3, cluster_std=1, \n",
    "               center_box=(-10.0, 10.0), shuffle=False, random_state=1234)\n",
    "model = Kmeans()\n",
    "model = model.fit(X)\n",
    "plt.scatter(X[model.labels==0,0],X[model.labels==0,1], c='r' )\n",
    "plt.scatter(X[model.labels==1,0],X[model.labels==1,1], c='g' )\n",
    "plt.scatter(X[model.labels==2,0],X[model.labels==2,1], c='b' )"
   ]
  },
  {
   "cell_type": "code",
   "execution_count": 30,
   "metadata": {},
   "outputs": [
    {
     "data": {
      "text/plain": [
       "<matplotlib.collections.PathCollection at 0xe1590b8>"
      ]
     },
     "execution_count": 30,
     "metadata": {},
     "output_type": "execute_result"
    },
    {
     "data": {
      "image/png": "[encoded data removed]",
      "text/plain": [
       "<matplotlib.figure.Figure at 0xa5045c0>"
      ]
     },
     "metadata": {},
     "output_type": "display_data"
    }
   ],
   "source": [
    "## Работоспособность KMeans++\n",
    "from sklearn.datasets import make_blobs\n",
    "import matplotlib\n",
    "X, y = make_blobs(n_samples=100, n_features=2, centers=3, cluster_std=1, \n",
    "           center_box=(-10.0, 10.0), shuffle=False, random_state=1234)\n",
    "modelplus = Kmeans(init='k-means')\n",
    "result = modelplus.fit(X)\n",
    "plt.scatter(X[result.labels==0,0],X[result.labels==0,1], c='r' )\n",
    "plt.scatter(X[result.labels==1,0],X[result.labels==1,1], c='g' )\n",
    "plt.scatter(X[result.labels==2,0],X[result.labels==2,1], c='b' )"
   ]
  },
  {
   "cell_type": "code",
   "execution_count": 31,
   "metadata": {},
   "outputs": [
    {
     "data": {
      "text/plain": [
       "<matplotlib.collections.PathCollection at 0x1226fd30>"
      ]
     },
     "execution_count": 31,
     "metadata": {},
     "output_type": "execute_result"
    },
    {
     "data": {
      "image/png": "[encoded data removed]",
      "text/plain": [
       "<matplotlib.figure.Figure at 0x1204de48>"
      ]
     },
     "metadata": {},
     "output_type": "display_data"
    }
   ],
   "source": [
    "## Работоспособность KMeans с MiniBatchKMeans\n",
    "from sklearn.datasets import make_blobs\n",
    "import matplotlib\n",
    "X, y = make_blobs(n_samples=100, n_features=2, centers=3, cluster_std=1, \n",
    "           center_box=(-10.0, 10.0), shuffle=False, random_state=1234)\n",
    "model_mini_batch = MiniBatchKMeans()\n",
    "model_mini_batch.init_mini_batch(X,b=10)\n",
    "result = model_mini_batch.miniBatchFit(X)\n",
    "plt.scatter(X[result.labels==0,0],X[result.labels==0,1], c='r' )\n",
    "plt.scatter(X[result.labels==1,0],X[result.labels==1,1], c='g' )\n",
    "plt.scatter(X[result.labels==2,0],X[result.labels==2,1], c='b' )"
   ]
  },
  {
   "cell_type": "code",
   "execution_count": 32,
   "metadata": {},
   "outputs": [
    {
     "data": {
      "text/plain": [
       "<matplotlib.collections.PathCollection at 0x1255af60>"
      ]
     },
     "execution_count": 32,
     "metadata": {},
     "output_type": "execute_result"
    },
    {
     "data": {
      "image/png": "[encoded data removed]",
      "text/plain": [
       "<matplotlib.figure.Figure at 0x12302240>"
      ]
     },
     "metadata": {},
     "output_type": "display_data"
    }
   ],
   "source": [
    "## Работоспособность KMeans++ с MiniBatchKMeans\n",
    "from sklearn.datasets import make_blobs\n",
    "import matplotlib\n",
    "X, y = make_blobs(n_samples=100, n_features=2, centers=3, cluster_std=1, \n",
    "           center_box=(-10.0, 10.0), shuffle=False, random_state=1234)\n",
    "model_mini_batch = MiniBatchKMeans(init='k-means')\n",
    "model_mini_batch.init_mini_batch(X,b=10)\n",
    "result = model_mini_batch.miniBatchFit(X)\n",
    "plt.scatter(X[result.labels==0,0],X[result.labels==0,1], c='r' )\n",
    "plt.scatter(X[result.labels==1,0],X[result.labels==1,1], c='g' )\n",
    "plt.scatter(X[result.labels==2,0],X[result.labels==2,1], c='b' )"
   ]
  },
  {
   "cell_type": "code",
   "execution_count": 34,
   "metadata": {},
   "outputs": [
    {
     "name": "stderr",
     "output_type": "stream",
     "text": [
      "D:\\Anaconda\\lib\\site-packages\\ipykernel_launcher.py:53: RuntimeWarning: Mean of empty slice.\n"
     ]
    },
    {
     "data": {
      "text/plain": [
       "<matplotlib.text.Text at 0xa52c2b0>"
      ]
     },
     "execution_count": 34,
     "metadata": {},
     "output_type": "execute_result"
    },
    {
     "data": {
      "image/png": "[encoded data removed]",
      "text/plain": [
       "<matplotlib.figure.Figure at 0x10f70518>"
      ]
     },
     "metadata": {},
     "output_type": "display_data"
    }
   ],
   "source": [
    "## Время выполнения алгоритма KMeans\n",
    "%matplotlib inline\n",
    "from time import time\n",
    "from sklearn.datasets import make_blobs\n",
    "import matplotlib.pyplot as plt\n",
    "plt.style.use('ggplot')\n",
    "plt.rcParams['figure.figsize'] = (12,5)\n",
    "num_samles = np.arange(100,2000,100)\n",
    "time_samples = np.zeros(num_samles.shape)\n",
    "t = 10\n",
    "ind = 0\n",
    "for n in num_samles:\n",
    "    X, y = make_blobs(n_samples=n, n_features=2, centers=3, cluster_std=1, \n",
    "               center_box=(-10.0, 10.0), shuffle=False, random_state=1234)\n",
    "    model = Kmeans()\n",
    "    times = np.zeros(t)\n",
    "    for i in xrange(t):\n",
    "        tic = time()\n",
    "        model = model.fit(X)\n",
    "        toc = time()\n",
    "        times[i] = toc - tic    \n",
    "    time_samples[ind] = times.min()\n",
    "    ind += 1\n",
    "fig = plt.figure()\n",
    "ax = fig.add_subplot(211)\n",
    "ax.scatter(num_samles,time_samples*1000)\n",
    "ax.yaxis.set_label_position('left')\n",
    "ax.set_ylabel(u'Время в милисекундах')\n",
    "ax.xaxis.set_label_position('bottom')\n",
    "ax.set_xlabel(u'Количество сэмплов')\n"
   ]
  },
  {
   "cell_type": "code",
   "execution_count": 23,
   "metadata": {},
   "outputs": [
    {
     "data": {
      "text/plain": [
       "<matplotlib.text.Text at 0xa53bc88>"
      ]
     },
     "execution_count": 23,
     "metadata": {},
     "output_type": "execute_result"
    },
    {
     "data": {
      "image/png": "[encoded data removed]",
      "text/plain": [
       "<matplotlib.figure.Figure at 0xa53ba90>"
      ]
     },
     "metadata": {},
     "output_type": "display_data"
    }
   ],
   "source": [
    "## Время выполнения алгоритма KMeans++\n",
    "%matplotlib inline\n",
    "from time import time\n",
    "from sklearn.datasets import make_blobs\n",
    "import matplotlib.pyplot as plt\n",
    "plt.style.use('ggplot')\n",
    "plt.rcParams['figure.figsize'] = (12,5)\n",
    "num_samles = np.arange(100,2000,100)\n",
    "time_samples = np.zeros(num_samles.shape)\n",
    "t = 10\n",
    "ind = 0\n",
    "for n in num_samles:\n",
    "    X, y = make_blobs(n_samples=n, n_features=2, centers=3, cluster_std=1, \n",
    "               center_box=(-10.0, 10.0), shuffle=False, random_state=1234)\n",
    "    model = Kmeans(init='k-means')\n",
    "    times = np.zeros(t)\n",
    "    for i in xrange(t):\n",
    "        tic = time()\n",
    "        model = model.fit(X)\n",
    "        toc = time()\n",
    "        times[i] = toc - tic    \n",
    "    time_samples[ind] = times.min()\n",
    "    ind += 1\n",
    "fig = plt.figure()\n",
    "ax = fig.add_subplot(211)\n",
    "ax.scatter(num_samles,time_samples*1000)\n",
    "ax.yaxis.set_label_position('left')\n",
    "ax.set_ylabel(u'Время в милисекундах')\n",
    "ax.xaxis.set_label_position('bottom')\n",
    "ax.set_xlabel(u'Количество сэмплов')"
   ]
  },
  {
   "cell_type": "code",
   "execution_count": 22,
   "metadata": {},
   "outputs": [
    {
     "data": {
      "text/plain": [
       "<matplotlib.text.Text at 0xdea6630>"
      ]
     },
     "execution_count": 22,
     "metadata": {},
     "output_type": "execute_result"
    },
    {
     "data": {
      "image/png": "[encoded data removed]",
      "text/plain": [
       "<matplotlib.figure.Figure at 0xea9f470>"
      ]
     },
     "metadata": {},
     "output_type": "display_data"
    }
   ],
   "source": [
    "## Время выполнения алгоритма KMeans с MiniBatchKMeans\n",
    "%matplotlib inline\n",
    "from time import time\n",
    "from sklearn.datasets import make_blobs\n",
    "import matplotlib.pyplot as plt\n",
    "plt.style.use('ggplot')\n",
    "plt.rcParams['figure.figsize'] = (12,5)\n",
    "num_samles = np.arange(100,2000,100)\n",
    "time_samples = np.zeros(num_samles.shape)\n",
    "t = 10\n",
    "ind = 0\n",
    "for n in num_samles:\n",
    "    X, y = make_blobs(n_samples=n, n_features=2, centers=3, cluster_std=1, \n",
    "               center_box=(-10.0, 10.0), shuffle=False, random_state=1234)\n",
    "    model_mini_batch = MiniBatchKMeans()\n",
    "    model_mini_batch.init_mini_batch(X,b=10)\n",
    "    times = np.zeros(t)\n",
    "    for i in xrange(t):\n",
    "        tic = time()\n",
    "        model_mini_batch = model_mini_batch.miniBatchFit(X)\n",
    "        toc = time()\n",
    "        times[i] = toc - tic    \n",
    "    time_samples[ind] = times.min()\n",
    "    ind += 1\n",
    "fig = plt.figure()\n",
    "ax = fig.add_subplot(211)\n",
    "ax.scatter(num_samles,time_samples*1000)\n",
    "ax.yaxis.set_label_position('left')\n",
    "ax.set_ylabel(u'Время в милисекундах')\n",
    "ax.xaxis.set_label_position('bottom')\n",
    "ax.set_xlabel(u'Количество сэмплов')\n"
   ]
  },
  {
   "cell_type": "code",
   "execution_count": 21,
   "metadata": {},
   "outputs": [
    {
     "data": {
      "text/plain": [
       "<matplotlib.text.Text at 0xa53bb00>"
      ]
     },
     "execution_count": 21,
     "metadata": {},
     "output_type": "execute_result"
    },
    {
     "data": {
      "image/png": "[encoded data removed]",
      "text/plain": [
       "<matplotlib.figure.Figure at 0xea9f550>"
      ]
     },
     "metadata": {},
     "output_type": "display_data"
    }
   ],
   "source": [
    "## Время выполнения алгоритма  KMeans++ с MiniBatchKMeans\n",
    "%matplotlib inline\n",
    "from time import time\n",
    "from sklearn.datasets import make_blobs\n",
    "import matplotlib.pyplot as plt\n",
    "plt.style.use('ggplot')\n",
    "plt.rcParams['figure.figsize'] = (12,5)\n",
    "num_samles = np.arange(100,2000,100)\n",
    "time_samples = np.zeros(num_samles.shape)\n",
    "t = 10\n",
    "ind = 0\n",
    "for n in num_samles:\n",
    "    X, y = make_blobs(n_samples=n, n_features=2, centers=3, cluster_std=1, \n",
    "               center_box=(-10.0, 10.0), shuffle=False, random_state=1234)\n",
    "    model_mini_batch = MiniBatchKMeans(init='k-means')\n",
    "    model_mini_batch.init_mini_batch(X,b=10)\n",
    "    times = np.zeros(t)\n",
    "    for i in xrange(t):\n",
    "        tic = time()\n",
    "        model_mini_batch = model_mini_batch.miniBatchFit(X)\n",
    "        toc = time()\n",
    "        times[i] = toc - tic    \n",
    "    time_samples[ind] = times.min()\n",
    "    ind += 1\n",
    "fig = plt.figure()\n",
    "ax = fig.add_subplot(211)\n",
    "ax.scatter(num_samles,time_samples*1000)\n",
    "ax.yaxis.set_label_position('left')\n",
    "ax.set_ylabel(u'Время в милисекундах')\n",
    "ax.xaxis.set_label_position('bottom')\n",
    "ax.set_xlabel(u'Количество сэмплов')"
   ]
  },
  {
   "cell_type": "markdown",
   "metadata": {},
   "source": [
    "# Применение K-means на реальных данных"
   ]
  },
  {
   "cell_type": "markdown",
   "metadata": {},
   "source": [
    "Загрузите [данные](https://github.com/brenden17/sklearnlab/blob/master/facebook/snsdata.csv) в которых содержится описание интересов профилей учеников старшей школы США.  (без этого пункта задание не считается выполненным).   \n",
    "ВНИМАНИЕ! Проверка должна быть осуществлена на всех реализациях, иначе реализация не будет зачтена!"
   ]
  },
  {
   "cell_type": "markdown",
   "metadata": {},
   "source": [
    "Данные устроены так: \n",
    "* Год выпуска\n",
    "* Пол\n",
    "* Возраст\n",
    "* Количество друзей\n",
    "* 36 ключевых слов, которые встречаются в профилe facebook (интересы, сообщества, встречи)"
   ]
  },
  {
   "cell_type": "markdown",
   "metadata": {},
   "source": [
    "* Удалите все признаки кроме 36 ключевых слов.\n",
    "* Нормализуйте данные - из каждого столбца вычтите его среднее значение и поделите на стандартное отклонение.\n",
    "* Используйте метод k-means чтобы выделить 9 кластеров\n",
    "* Попробуйте проинтерпретировать каждый кластер проанализировав полученные центройды (Некоторые кластеры могут быть очень большие и очень маленькие - плохо интерпретируются)   \n",
    "КОММЕНТАРИИ НЕ СТИРАТЬ!"
   ]
  },
  {
   "cell_type": "code",
   "execution_count": 3,
   "metadata": {},
   "outputs": [
    {
     "name": "stderr",
     "output_type": "stream",
     "text": [
      "D:\\Anaconda\\lib\\site-packages\\ipykernel_launcher.py:53: RuntimeWarning: Mean of empty slice.\n",
      "D:\\Anaconda\\lib\\site-packages\\numpy\\core\\_methods.py:73: RuntimeWarning: invalid value encountered in true_divide\n",
      "  ret, rcount, out=ret, casting='unsafe', subok=False)\n"
     ]
    },
    {
     "name": "stdout",
     "output_type": "stream",
     "text": [
      "labels               0         1         2         3         4         5  \\\n",
      "basketball    0.187354  0.880597  0.540193  0.177097  0.387037  0.354528   \n",
      "football      0.152202  1.171642  0.504823  0.282290  0.374074  0.300578   \n",
      "soccer        0.131461  0.427239  0.331190  0.163782  0.250000  0.219653   \n",
      "softball      0.073389  0.319030  0.287245  0.158455  0.225926  0.179191   \n",
      "volleyball    0.064508  0.218284  0.213290  0.089214  0.209259  0.138728   \n",
      "swimming      0.062540  0.179104  0.272240  0.145140  0.157407  0.175337   \n",
      "cheerleading  0.040949  0.233209  0.197213  0.050599  0.164815  0.109827   \n",
      "baseball      0.034833  3.063433  0.178992  0.046605  0.072222  0.088632   \n",
      "tennis        0.058977  0.110075  0.153269  0.090546  0.133333  0.105973   \n",
      "sports        0.088970  0.472015  0.553055  0.095872  0.124074  0.131021   \n",
      "cute          0.152999  0.488806  0.700965  0.272969  0.694444  0.300578   \n",
      "sex           0.090725  0.320896  2.619507  0.151798  0.231481  0.196532   \n",
      "sexy          0.000000  0.166045  0.348339  0.087883  0.137037  0.080925   \n",
      "hot           0.051585  0.152985  0.273312  0.094541  0.192593  0.121387   \n",
      "kissed        0.032865  0.085821  1.699893  0.066578  0.151852  0.073218   \n",
      "dance         0.213572  0.358209  0.938907  0.447403  0.940741  0.404624   \n",
      "band          0.155499  0.214552  0.745981  4.042610  0.407407  0.387283   \n",
      "marching      0.001808  0.013060  0.033226  1.431425  0.020370  0.030829   \n",
      "music         0.534248  0.841418  2.224009  1.223702  0.874074  1.063584   \n",
      "rock          0.156137  0.701493  1.101822  0.355526  0.287037  0.315992   \n",
      "god           0.310147  0.436567  0.949625  0.515313  0.531481  4.310212   \n",
      "church        0.126888  0.371269  0.385852  0.262317  0.412963  1.949904   \n",
      "jesus         0.065678  0.102612  0.151125  0.102530  0.101852  1.815029   \n",
      "bible         0.002074  0.013060  0.031083  0.011984  0.014815  0.988439   \n",
      "hair          0.182833  0.544776  3.258307  0.374168  0.835185  0.464355   \n",
      "dress         0.037971  0.037313  0.293676  0.098535  2.601852  0.090559   \n",
      "blonde        0.039034  0.404851  0.825295  0.075899  0.118519  0.113680   \n",
      "mall          0.113433  0.309701  0.692390  0.173103  0.542593  0.204239   \n",
      "shopping      0.148904  0.242537  0.534834  0.290280  0.827778  0.362235   \n",
      "clothes       0.049138  0.121269  0.707395  0.135819  0.290741  0.167630   \n",
      "hollister     0.014093  0.027985  0.131833  0.011984  0.074074  0.036609   \n",
      "abercrombie   0.009253  0.024254  0.128617  0.009321  0.046296  0.025048   \n",
      "die           0.121410  0.158582  1.275456  0.170439  0.218519  0.331407   \n",
      "death         0.075941  0.102612  0.548767  0.125166  0.142593  0.246628   \n",
      "drunk         0.050840  0.055970  0.848875  0.049268  0.094444  0.113680   \n",
      "drugs         0.020687  0.048507  1.058950  0.033289  0.055556  0.082852   \n",
      "\n",
      "labels               6         7         8  \n",
      "basketball    0.402827  0.231746  0.440469  \n",
      "football      0.409894  0.185488  0.469052  \n",
      "soccer        0.312132  0.190930  0.537734  \n",
      "softball      0.219081  0.114739  0.461444  \n",
      "volleyball    0.265018  0.107483  0.421756  \n",
      "swimming      0.256773  0.089796  0.371170  \n",
      "cheerleading  0.305065  0.079365  0.308863  \n",
      "baseball      0.107185  0.046712  0.076085  \n",
      "tennis        0.156655  0.064399  0.172527  \n",
      "sports        0.189635  0.105669  0.237713  \n",
      "cute          0.625442  0.447619  0.748304  \n",
      "sex           0.239105  0.262585  0.172116  \n",
      "sexy          0.183746  1.446259  0.060662  \n",
      "hot           0.321555  0.188662  0.321612  \n",
      "kissed        0.138987  0.077098  0.079786  \n",
      "dance         0.679623  0.416780  1.053054  \n",
      "band          0.187279  0.205442  0.243471  \n",
      "marching      0.009423  0.004989  0.005141  \n",
      "music         0.919906  0.693878  1.091713  \n",
      "rock          0.292108  0.204989  0.344232  \n",
      "god           0.462898  0.405896  0.577421  \n",
      "church        0.228504  0.174603  0.511824  \n",
      "jesus         0.108363  0.073923  0.123792  \n",
      "bible         0.008245  0.004535  0.003701  \n",
      "hair          0.912839  0.457596  0.647748  \n",
      "dress         0.138987  0.064853  0.109809  \n",
      "blonde        0.223793  0.108844  0.130989  \n",
      "mall          0.672556  0.221315  0.655562  \n",
      "shopping      0.929329  0.266667  1.013983  \n",
      "clothes       0.421673  0.128345  0.374049  \n",
      "hollister     1.508834  0.030385  0.056961  \n",
      "abercrombie   1.168433  0.012245  0.033724  \n",
      "die           0.219081  0.166893  0.204195  \n",
      "death         0.155477  0.107937  0.156899  \n",
      "drunk         0.103651  0.111111  0.078347  \n",
      "drugs         0.075383  0.039002  0.033313  \n"
     ]
    }
   ],
   "source": [
    "## KMeans\n",
    "import pandas as pd\n",
    "df_sns = pd.read_csv('snsdata.csv', sep=',')\n",
    "df_sns = df_sns.drop(['gradyear', 'gender','age','friends'],axis=1)\n",
    "X = df_sns.iloc[:,1:].values\n",
    "X = (X - X.mean(axis=0)) / X.std(axis=0)\n",
    "model = Kmeans(k=9, max_iter=1000,eps=0.1)\n",
    "model.fit(X)\n",
    "df_sns.loc[:,'labels'] = model.predict(X)\n",
    "print df_sns.groupby('labels').agg('mean').transpose()"
   ]
  },
  {
   "cell_type": "code",
   "execution_count": 6,
   "metadata": {},
   "outputs": [
    {
     "name": "stdout",
     "output_type": "stream",
     "text": [
      "labels               0      1      2         3         4     5         6  \\\n",
      "basketball    0.187172    0.0    0.0  0.390424  1.076190   0.0  0.363091   \n",
      "football      0.146571    2.0    0.0  0.270718  1.033333   1.0  0.332333   \n",
      "soccer        0.136645    0.0    0.0  0.243094  0.585714   1.0  0.264066   \n",
      "softball      0.078886    0.0    0.0  0.163904  0.495238   0.0  0.206302   \n",
      "volleyball    0.070993    0.0    0.0  0.167587  0.328571   0.0  0.147787   \n",
      "swimming      0.074727    1.0    0.0  0.180479  0.452381  31.0  0.195799   \n",
      "cheerleading  0.044855    0.0    0.0  0.103131  0.357143   0.0  0.138035   \n",
      "baseball      0.057522    0.0    0.0  0.127072  0.485714   0.0  0.137284   \n",
      "tennis        0.058420    0.0    0.0  0.108656  0.323810   0.0  0.085521   \n",
      "sports        0.084700    0.0    0.0  0.151013  1.076190   1.0  0.320330   \n",
      "cute          0.157064    1.0    0.0  0.313076  1.338095   0.0  0.477119   \n",
      "sex           0.092026   22.0  114.0  0.211786  4.647619   0.0  1.358590   \n",
      "sexy          0.087205    1.0    0.0  0.103131  0.638095   0.0  0.324831   \n",
      "hot           0.054734    0.0    0.0  0.134438  0.580952   0.0  0.162041   \n",
      "kissed        0.028974    0.0    0.0  0.075506  3.271429   0.0  0.882971   \n",
      "dance         0.224748    1.0    0.0  0.397790  1.457143   1.0  0.741935   \n",
      "band          0.183816    1.0    0.0  0.449355  1.447619   0.0  0.541635   \n",
      "marching      0.020135    0.0    0.0  0.057090  0.076190   0.0  0.044261   \n",
      "music         0.538262    0.0    1.0  0.998158  4.600000   1.0  1.386347   \n",
      "rock          0.147894    1.0    1.0  0.314917  2.980952   0.0  0.547637   \n",
      "god           0.312568   10.0    0.0  3.802947  1.233333   1.0  0.801200   \n",
      "church        0.124356    0.0   10.0  1.414365  0.490476   0.0  0.293323   \n",
      "jesus         0.067401    1.0    0.0  1.585635  0.166667   0.0  0.120030   \n",
      "bible         0.000000    0.0    0.0  1.095764  0.071429   0.0  0.009752   \n",
      "hair          0.181358   12.0    0.0  0.480663  5.414286   0.0  2.133533   \n",
      "dress         0.041168    2.0    0.0  0.116022  0.709524   0.0  0.234809   \n",
      "blonde        0.041736  327.0    0.0  0.110497  0.957143   0.0  0.286572   \n",
      "mall          0.119110    0.0    0.0  0.180479  1.076190   0.0  0.468117   \n",
      "shopping      0.169258    0.0    0.0  0.340700  0.980952   0.0  0.373593   \n",
      "clothes       0.054308    1.0    0.0  0.165746  1.195238   0.0  0.491373   \n",
      "hollister     0.014936    0.0    0.0  0.033149  0.461905   0.0  0.045011   \n",
      "abercrombie   0.009028    0.0    0.0  0.023941  0.423810   0.0  0.043511   \n",
      "die           0.111500    6.0    0.0  0.313076  1.395238   0.0  1.051013   \n",
      "death         0.074963    6.0    1.0  0.215470  0.680952   0.0  0.468117   \n",
      "drunk         0.038947    6.0    0.0  0.099448  0.957143   0.0  0.866467   \n",
      "drugs         0.014794    0.0    0.0  0.086556  0.971429   0.0  0.803451   \n",
      "\n",
      "labels               7         8  \n",
      "basketball    0.473926  0.401384  \n",
      "football      0.561406  0.407151  \n",
      "soccer        0.494309  0.316032  \n",
      "softball      0.426873  0.214533  \n",
      "volleyball    0.374384  0.266436  \n",
      "swimming      0.295397  0.260669  \n",
      "cheerleading  0.284525  0.299885  \n",
      "baseball      0.250552  0.117647  \n",
      "tennis        0.170885  0.158016  \n",
      "sports        0.257347  0.179931  \n",
      "cute          0.803975  0.625144  \n",
      "sex           0.187022  0.226067  \n",
      "sexy          0.270766  0.199539  \n",
      "hot           0.331748  0.318339  \n",
      "kissed        0.078308  0.134948  \n",
      "dance         1.000849  0.686275  \n",
      "band          0.622049  0.191465  \n",
      "marching      0.114829  0.011534  \n",
      "music         1.124682  0.885813  \n",
      "rock          0.408018  0.276817  \n",
      "god           0.601495  0.463668  \n",
      "church        0.566163  0.241061  \n",
      "jesus         0.133345  0.108420  \n",
      "bible         0.001869  0.006920  \n",
      "hair          0.651096  0.868512  \n",
      "dress         0.302871  0.170704  \n",
      "blonde        0.158485  0.209919  \n",
      "mall          0.622049  0.681661  \n",
      "shopping      0.903516  0.923875  \n",
      "clothes       0.331918  0.409458  \n",
      "hollister     0.053168  1.490196  \n",
      "abercrombie   0.031595  1.151096  \n",
      "die           0.188551  0.212226  \n",
      "death         0.137931  0.159170  \n",
      "drunk         0.052828  0.101499  \n",
      "drugs         0.020724  0.064591  \n"
     ]
    }
   ],
   "source": [
    "## KMeans++\n",
    "import pandas as pd\n",
    "df_sns = pd.read_csv('snsdata.csv', sep=',')\n",
    "df_sns = df_sns.drop(['gradyear', 'gender','age','friends'],axis=1)\n",
    "X = df_sns.iloc[:,1:].values\n",
    "X = (X - X.mean(axis=0)) / X.std(axis=0)\n",
    "modelplus = Kmeans(k=9, max_iter=1000,init='k-means',eps=0.1)\n",
    "modelplus.fit(X)\n",
    "\n",
    "df_sns.loc[:,'labels'] = modelplus.predict(X)\n",
    "print df_sns.groupby('labels').agg('mean').transpose()"
   ]
  },
  {
   "cell_type": "code",
   "execution_count": 4,
   "metadata": {},
   "outputs": [
    {
     "name": "stdout",
     "output_type": "stream",
     "text": [
      "labels               0         1         2         3         4         5  \\\n",
      "basketball    0.785244  0.307692  0.401575  0.370682  0.459751  0.314565   \n",
      "football      1.238472  0.372080  0.505512  0.381634  0.429705  0.290086   \n",
      "soccer        0.476943  0.234758  0.240945  0.360573  0.434807  0.222766   \n",
      "softball      0.221344  0.111681  0.182677  0.136479  0.157596  0.108935   \n",
      "volleyball    0.255599  0.135613  0.206299  0.303286  0.197279  0.156671   \n",
      "swimming      0.739130  0.170940  0.166929  0.253580  0.246032  0.160343   \n",
      "cheerleading  0.102767  0.054701  2.943307  0.179444  0.101474  0.042840   \n",
      "baseball      2.304348  0.046724  0.143307  0.085931  0.137188  0.079559   \n",
      "tennis        0.094862  0.113960  0.072441  0.171019  0.143424  0.166463   \n",
      "sports        0.507246  0.112251  0.144882  0.163437  0.399660  0.146879   \n",
      "cute          0.445323  0.646724  0.524409  0.629318  0.943311  0.337821   \n",
      "sex           0.251647  0.157835  0.214173  0.192081  1.659864  0.148103   \n",
      "sexy          0.131752  0.131054  0.160630  0.178602  0.291950  0.079559   \n",
      "hot           0.213439  0.209687  0.240945  0.312553  0.317460  0.119951   \n",
      "kissed        0.077734  0.065527  0.133858  0.108677  1.089569  0.068543   \n",
      "dance         0.362319  2.201140  0.631496  0.606571  0.787982  0.419829   \n",
      "band          0.201581  1.911681  0.193701  0.171862  0.570295  0.462668   \n",
      "marching      0.009223  0.505983  0.018898  0.007582  0.026644  0.037944   \n",
      "music         0.853755  1.227350  0.696063  0.819714  1.907029  1.117503   \n",
      "rock          0.520422  0.358974  0.292913  0.262005  0.838435  0.351285   \n",
      "god           0.457181  0.480912  0.530709  0.450716  0.846372  3.783354   \n",
      "church        0.350461  0.348718  0.344882  0.232519  0.379252  2.259486   \n",
      "jesus         0.094862  0.091168  0.089764  0.091828  0.120748  1.662179   \n",
      "bible         0.009223  0.007977  0.015748  0.012637  0.020975  0.583843   \n",
      "hair          0.459816  0.608547  0.529134  0.794440  2.515306  0.425949   \n",
      "dress         0.054018  0.907123  0.138583  0.150800  0.241497  0.107711   \n",
      "blonde        0.268775  0.093447  0.223622  0.196293  0.537415  0.102815   \n",
      "mall          0.279315  0.419373  0.433071  0.690817  0.729592  0.248470   \n",
      "shopping      0.329381  0.695157  0.718110  1.100253  0.560658  0.423501   \n",
      "clothes       0.137022  0.228490  0.201575  0.400168  0.684807  0.189718   \n",
      "hollister     0.022398  0.029060  0.118110  1.186184  0.090703  0.025704   \n",
      "abercrombie   0.011858  0.017094  0.075591  0.974726  0.077664  0.014688   \n",
      "die           0.133070  0.178348  0.159055  0.181129  1.038549  0.299878   \n",
      "death         0.101449  0.115670  0.119685  0.129739  0.513039  0.212974   \n",
      "drunk         0.057971  0.072365  0.074016  0.103623  0.605442  0.088127   \n",
      "drugs         0.040843  0.034758  0.048819  0.057287  0.655329  0.057528   \n",
      "\n",
      "labels               6         7         8  \n",
      "basketball    0.527778  0.814969  0.206156  \n",
      "football      0.361111  0.415800  0.175511  \n",
      "soccer        0.287037  0.230769  0.187885  \n",
      "softball      0.180556  4.715177  0.067900  \n",
      "volleyball    0.157407  0.827443  0.110024  \n",
      "swimming      0.111111  0.180873  0.093273  \n",
      "cheerleading  0.115741  0.083160  0.029661  \n",
      "baseball      0.101852  0.168399  0.031895  \n",
      "tennis        0.083333  0.087318  0.073707  \n",
      "sports        0.236111  0.476091  0.099437  \n",
      "cute          0.870370  0.386694  0.215268  \n",
      "sex           0.699074  0.243243  0.095283  \n",
      "sexy          4.254630  0.122661  0.090860  \n",
      "hot           0.305556  0.162162  0.086751  \n",
      "kissed        0.166667  0.095634  0.028947  \n",
      "dance         0.787037  0.407484  0.241088  \n",
      "band          0.453704  0.301455  0.157509  \n",
      "marching      0.046296  0.033264  0.008845  \n",
      "music         1.004630  0.846154  0.581479  \n",
      "rock          0.449074  0.286902  0.168722  \n",
      "god           0.629630  0.575884  0.308184  \n",
      "church        0.254630  0.355509  0.148798  \n",
      "jesus         0.097222  0.112266  0.058876  \n",
      "bible         0.018519  0.016632  0.003038  \n",
      "hair          0.861111  0.542620  0.212142  \n",
      "dress         0.199074  0.133056  0.036094  \n",
      "blonde        0.240741  0.137214  0.048021  \n",
      "mall          0.337963  0.338877  0.176539  \n",
      "shopping      0.365741  0.544699  0.253819  \n",
      "clothes       0.245370  0.232848  0.081256  \n",
      "hollister     0.069444  0.072765  0.014027  \n",
      "abercrombie   0.055556  0.049896  0.004735  \n",
      "die           0.416667  0.187110  0.113285  \n",
      "death         0.180556  0.151767  0.077102  \n",
      "drunk         0.263889  0.066528  0.047753  \n",
      "drugs         0.087963  0.056133  0.016662  \n"
     ]
    }
   ],
   "source": [
    "## KMeans с MiniBatchKMeans\n",
    "import pandas as pd\n",
    "df_sns = pd.read_csv('snsdata.csv', sep=',')\n",
    "df_sns = df_sns.drop(['gradyear', 'gender','age','friends'],axis=1)\n",
    "X = df_sns.iloc[:,1:].values\n",
    "X = (X - X.mean(axis=0)) / X.std(axis=0)\n",
    "model_mini_batch = MiniBatchKMeans(k=9,max_iter=1000,eps=0.1)\n",
    "model_mini_batch.init_mini_batch(X,b=100)\n",
    "model_mini_batch.miniBatchFit(X)\n",
    "df_sns.loc[:,'labels'] = model_mini_batch.predict(X)\n",
    "print df_sns.groupby('labels').agg('mean').transpose()"
   ]
  },
  {
   "cell_type": "code",
   "execution_count": 5,
   "metadata": {},
   "outputs": [
    {
     "name": "stdout",
     "output_type": "stream",
     "text": [
      "labels               0      1         2     3     4     5         6         7  \\\n",
      "basketball    0.228852    0.0  0.573620   0.0   1.5   0.0  0.912500  0.628821   \n",
      "football      0.208593    2.0  0.612621   1.0   7.0   0.0  0.950000  0.585153   \n",
      "soccer        0.202704    0.0  0.425066   1.0   1.0   0.0  0.275000  0.338428   \n",
      "softball      0.141296    0.0  0.351884   0.0   1.0   0.0  0.300000  0.290393   \n",
      "volleyball    0.091667    0.0  0.740578   0.0   0.0   0.0  0.112500  0.209607   \n",
      "swimming      0.116741    1.0  0.294917  31.0   0.5   0.0  0.150000  0.290393   \n",
      "cheerleading  0.082741    0.0  0.366345   0.0   4.0   0.0  0.095833  0.189956   \n",
      "baseball      0.058148    0.0  0.169588   0.0   2.0   0.0  4.445833  0.231441   \n",
      "tennis        0.080444    0.0  0.147677   0.0   0.5   0.0  0.058333  0.198690   \n",
      "sports        0.115185    0.0  0.265557   1.0   5.0   0.0  0.466667  0.569869   \n",
      "cute          0.248407    1.0  1.101665   0.0   6.0   0.0  0.266667  0.831878   \n",
      "sex           0.131889   22.0  0.386503   0.0  12.0   0.0  0.200000  3.759825   \n",
      "sexy          0.116926    1.0  0.355828   0.0   1.0   0.0  0.108333  0.510917   \n",
      "hot           0.097370    0.0  0.432515   0.0   1.0   0.0  0.158333  0.303493   \n",
      "kissed        0.058037    0.0  0.211218   0.0   6.5   0.0  0.100000  2.170306   \n",
      "dance         0.357185    1.0  1.087642   1.0   8.0   0.0  0.312500  1.122271   \n",
      "band          0.273963    1.0  0.425942   0.0   6.0   0.0  0.208333  1.165939   \n",
      "marching      0.038926    0.0  0.045136   0.0   0.5   0.0  0.012500  0.120087   \n",
      "music         0.659889    0.0  1.176161   1.0  14.0   0.5  0.725000  2.960699   \n",
      "rock          0.194259    1.0  0.515337   0.0   2.5   0.0  0.462500  1.606987   \n",
      "god           0.429111   10.0  0.668273   1.0   3.0  65.5  0.491667  1.257642   \n",
      "church        0.217222    0.0  0.548642   0.0   3.0   0.5  0.466667  0.438865   \n",
      "jesus         0.108037    1.0  0.131464   0.0   0.5  15.0  0.129167  0.176856   \n",
      "bible         0.020148    0.0  0.023663   0.0   0.0   5.5  0.016667  0.058952   \n",
      "hair          0.286556   12.0  1.305872   0.0  32.0   0.5  0.470833  3.703057   \n",
      "dress         0.085222    2.0  0.352761   0.0   1.5   0.0  0.029167  0.445415   \n",
      "blonde        0.059630  327.0  0.308501   0.0   3.5   0.0  0.133333  0.598253   \n",
      "mall          0.176185    0.0  1.119632   0.0   2.0   0.0  0.229167  0.737991   \n",
      "shopping      0.276296    0.0  1.231376   0.0   5.0   0.0  0.175000  0.565502   \n",
      "clothes       0.097148    1.0  0.624014   0.0   5.0   0.5  0.116667  0.770742   \n",
      "hollister     0.021148    0.0  0.620508   0.0   6.5   0.0  0.050000  0.168122   \n",
      "abercrombie   0.011370    0.0  0.490359   0.0   1.0   0.0  0.029167  0.192140   \n",
      "die           0.152741    6.0  0.277826   0.0   4.0   0.0  0.154167  1.530568   \n",
      "death         0.098222    6.0  0.216477   0.0   2.0   0.5  0.075000  0.541485   \n",
      "drunk         0.069407    6.0  0.123138   0.0   3.0   0.0  0.066667  0.975983   \n",
      "drugs         0.033111    0.0  0.095092   0.0   4.0   0.0  0.050000  1.436681   \n",
      "\n",
      "labels               8  \n",
      "basketball    1.571429  \n",
      "football      1.857143  \n",
      "soccer        1.142857  \n",
      "softball      0.785714  \n",
      "volleyball    0.428571  \n",
      "swimming      0.357143  \n",
      "cheerleading  0.785714  \n",
      "baseball      1.000000  \n",
      "tennis        0.357143  \n",
      "sports        7.071429  \n",
      "cute          0.500000  \n",
      "sex           1.642857  \n",
      "sexy          0.285714  \n",
      "hot           0.214286  \n",
      "kissed        1.142857  \n",
      "dance         1.571429  \n",
      "band          1.571429  \n",
      "marching      0.357143  \n",
      "music         5.285714  \n",
      "rock          1.857143  \n",
      "god           0.428571  \n",
      "church        0.571429  \n",
      "jesus         0.071429  \n",
      "bible         0.000000  \n",
      "hair          5.285714  \n",
      "dress         0.500000  \n",
      "blonde        1.000000  \n",
      "mall          0.857143  \n",
      "shopping      0.642857  \n",
      "clothes       1.071429  \n",
      "hollister     0.500000  \n",
      "abercrombie   0.857143  \n",
      "die           0.928571  \n",
      "death         0.285714  \n",
      "drunk         0.642857  \n",
      "drugs         1.714286  \n"
     ]
    }
   ],
   "source": [
    "## KMeans++ с MiniBatchKMeans\n",
    "import pandas as pd\n",
    "df_sns = pd.read_csv('snsdata.csv', sep=',')\n",
    "df_sns = df_sns.drop(['gradyear', 'gender','age','friends'],axis=1)\n",
    "X = df_sns.iloc[:,1:].values\n",
    "X = (X - X.mean(axis=0)) / X.std(axis=0)\n",
    "model_mini_batch = MiniBatchKMeans(k=9,max_iter=1000,init='k-means',eps=0.1)\n",
    "model_mini_batch.init_mini_batch(X,b=100)\n",
    "model_mini_batch.miniBatchFit(X)\n",
    "df_sns.loc[:,'labels'] = model_mini_batch.predict(X)\n",
    "print df_sns.groupby('labels').agg('mean').transpose()"
   ]
  },
  {
   "cell_type": "code",
   "execution_count": null,
   "metadata": {
    "collapsed": true
   },
   "outputs": [],
   "source": [
    "## Вывод\n",
    "''''\n",
    "1) Из п. 4 стало понятно, что алгоритм K-means miniBatch работал быстрее всего (видно после замеров времени выполнения)\n",
    "Это связано с тем, что на каждой итерации в вызове \n",
    "C = np.array([np.argmin([np.dot(x - cent, x - cent) for cent in self.centroids]) for x in X])\n",
    "в качестве Х была небольшая подвыборка. Опытным путем было установлено, что этот и тоько этот вызов(кроме инициализации, а\n",
    "о ней ниже) влиял на скорость выполнение алгоритма.\n",
    "2) По описаию алгоритма miniBatch видно, что он никак не влияет на качество результата. Только на скорость.\n",
    "3) Сравнение k-means и k-means++. С точки зрения времени работы, ++ выполнялся дольше из-за инициализации, т.к в обычном\n",
    "k-means мы тупо рандомим один вектор и все. Что касается качества, то из распечаток выше видно, что с ++ деление происходило\n",
    "немного по-другому. Появились кластеры, в которых очень много средних значений = 0. Это связано с \"более правильной и \n",
    "логичной\" инициализации начальных центроид. В результате были получены кластеры, в которых достаточно мало объектов,\n",
    "однако они все практически идентичны. Достоинство это или недостаток - зависит от поставленной задачи. Если требуется выделить\n",
    "\"сильно отличающиеся\" ото всех остальных объекты (как например объект, у которого поле Blonde много больше среднего остальных. \n",
    "Опять же это видно в распечатках выше), то данная модификация уместна. Так же было установлено (в 4 пункте задания), что при\n",
    "многократном запуске обычного k-means, могли получатся разные результаты, порой не совсем верные. Это связано с рандомной\n",
    "инициализацией начальных центроид.\n",
    "4) Вывод. k-means++ работает более стабильно и предсказуемо, не давая в общем случае прирост скорости,\n",
    "k-means miniBatch дает значительный (зависит от размера подвыборки) прирост скорости, однако не дает никакого,\n",
    "в общем случае, улучшения результата.\n",
    "P.S на выполнение алгоритмов с реальными данными порой уходило около минуты.  В среднем 30-40 секунд. Программы не зависают,\n",
    "надо просто немного подождать)\n",
    "''''"
   ]
  }
 ],
 "metadata": {
  "anaconda-cloud": {},
  "kernelspec": {
   "display_name": "Python 2",
   "language": "python",
   "name": "python2"
  },
  "language_info": {
   "codemirror_mode": {
    "name": "ipython",
    "version": 2
   },
   "file_extension": ".py",
   "mimetype": "text/x-python",
   "name": "python",
   "nbconvert_exporter": "python",
   "pygments_lexer": "ipython2",
   "version": "2.7.13"
  },
  "nav_menu": {},
  "toc": {
   "navigate_menu": true,
   "number_sections": false,
   "sideBar": true,
   "threshold": 6,
   "toc_cell": false,
   "toc_section_display": "block",
   "toc_window_display": true
  }
 },
 "nbformat": 4,
 "nbformat_minor": 2
}
