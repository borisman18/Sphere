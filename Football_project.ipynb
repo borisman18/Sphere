{
 "cells": [
  {
   "cell_type": "markdown",
   "metadata": {},
   "source": [
    "# Предсказание вероятности исходов футбольных матчей"
   ]
  },
  {
   "cell_type": "code",
   "execution_count": 2,
   "metadata": {},
   "outputs": [
    {
     "data": {
      "text/html": [
       "<style>.container { width:100% !important; }</style>"
      ],
      "text/plain": [
       "<IPython.core.display.HTML object>"
      ]
     },
     "metadata": {},
     "output_type": "display_data"
    }
   ],
   "source": [
    "import pandas as pd\n",
    "import numpy as np\n",
    "from collections import Counter\n",
    "from sklearn.ensemble import RandomForestClassifier, RandomForestRegressor, GradientBoostingClassifier\n",
    "from sklearn.linear_model import  LinearRegression, LogisticRegression\n",
    "from sklearn.tree import DecisionTreeClassifier\n",
    "from sklearn.metrics import roc_curve, roc_auc_score, auc\n",
    "from sklearn.metrics import accuracy_score\n",
    "from sklearn.model_selection import KFold\n",
    "from tqdm import tqdm_notebook\n",
    "from copy import copy\n",
    "import matplotlib.pyplot as plt\n",
    "from IPython.core.display import display, HTML\n",
    "from sklearn.model_selection import train_test_split\n",
    "\n",
    "display(HTML(\"<style>.container { width:100% !important; }</style>\"))\n",
    "%matplotlib inline"
   ]
  },
  {
   "cell_type": "markdown",
   "metadata": {},
   "source": [
    "## Чтение данных..."
   ]
  },
  {
   "cell_type": "code",
   "execution_count": 199,
   "metadata": {
    "collapsed": true
   },
   "outputs": [],
   "source": [
    "folder_names = {\"02-03/\",\"03-04/\",\"04-05/\",\"05-06/\",\"07-08/\",\"08-09/\",\"09-10/\",\"10-11/\",\n",
    "                \"11-12/\",\"12-13/\",\"13-14/\",\"14-15/\",\"15-16/\",\"16-17/\",\"17-18/\"}"
   ]
  },
  {
   "cell_type": "code",
   "execution_count": 200,
   "metadata": {
    "collapsed": true
   },
   "outputs": [],
   "source": [
    "names = {\"E0.csv\"}"
   ]
  },
  {
   "cell_type": "code",
   "execution_count": 198,
   "metadata": {
    "collapsed": true
   },
   "outputs": [],
   "source": [
    "names = {\"B1.csv\",\"D1.csv\",\"D2.csv\",\"E0.csv\",\"E1.csv\",\"E2.csv\",\"E3.csv\",\"EC.csv\",\n",
    "         \"F1.csv\",\"F2.csv\",\"G1.csv\",\"I1.csv\",\n",
    "        \"I2.csv\",\"N1.csv\",\"P1.csv\",\"SC0.csv\",\"SC1.csv\",\"SC2.csv\",\"SC3.csv\",\n",
    "         \"SP1.csv\",\"SP2.csv\",\"T1.csv\",}\n"
   ]
  },
  {
   "cell_type": "code",
   "execution_count": 201,
   "metadata": {
    "collapsed": true
   },
   "outputs": [
    {
     "name": "stderr",
     "output_type": "stream",
     "text": [
      "Skipping line 257: expected 48 fields, saw 49\n",
      "Skipping line 258: expected 48 fields, saw 49\n",
      "Skipping line 259: expected 48 fields, saw 49\n",
      "Skipping line 260: expected 48 fields, saw 49\n",
      "Skipping line 261: expected 48 fields, saw 49\n",
      "Skipping line 262: expected 48 fields, saw 49\n",
      "Skipping line 263: expected 48 fields, saw 49\n",
      "Skipping line 264: expected 48 fields, saw 49\n",
      "Skipping line 265: expected 48 fields, saw 49\n",
      "Skipping line 266: expected 48 fields, saw 49\n",
      "Skipping line 267: expected 48 fields, saw 49\n",
      "Skipping line 268: expected 48 fields, saw 49\n",
      "Skipping line 269: expected 48 fields, saw 49\n",
      "Skipping line 270: expected 48 fields, saw 49\n",
      "Skipping line 271: expected 48 fields, saw 49\n",
      "Skipping line 272: expected 48 fields, saw 49\n",
      "Skipping line 273: expected 48 fields, saw 51\n",
      "Skipping line 274: expected 48 fields, saw 51\n",
      "Skipping line 275: expected 48 fields, saw 51\n",
      "Skipping line 276: expected 48 fields, saw 51\n",
      "Skipping line 277: expected 48 fields, saw 51\n",
      "Skipping line 278: expected 48 fields, saw 51\n",
      "Skipping line 279: expected 48 fields, saw 51\n",
      "Skipping line 280: expected 48 fields, saw 51\n",
      "Skipping line 281: expected 48 fields, saw 51\n",
      "Skipping line 282: expected 48 fields, saw 51\n",
      "Skipping line 283: expected 48 fields, saw 51\n",
      "Skipping line 284: expected 48 fields, saw 51\n",
      "Skipping line 285: expected 48 fields, saw 51\n",
      "Skipping line 286: expected 48 fields, saw 51\n",
      "Skipping line 287: expected 48 fields, saw 51\n",
      "Skipping line 288: expected 48 fields, saw 51\n",
      "Skipping line 321: expected 48 fields, saw 49\n",
      "Skipping line 322: expected 48 fields, saw 49\n",
      "Skipping line 323: expected 48 fields, saw 49\n",
      "Skipping line 324: expected 48 fields, saw 49\n",
      "Skipping line 325: expected 48 fields, saw 49\n",
      "Skipping line 326: expected 48 fields, saw 49\n",
      "Skipping line 327: expected 48 fields, saw 49\n",
      "Skipping line 328: expected 48 fields, saw 49\n",
      "Skipping line 329: expected 48 fields, saw 49\n",
      "Skipping line 330: expected 48 fields, saw 49\n",
      "Skipping line 331: expected 48 fields, saw 49\n",
      "Skipping line 332: expected 48 fields, saw 49\n",
      "Skipping line 333: expected 48 fields, saw 49\n",
      "Skipping line 334: expected 48 fields, saw 49\n",
      "Skipping line 335: expected 48 fields, saw 49\n",
      "Skipping line 336: expected 48 fields, saw 49\n",
      "Skipping line 337: expected 48 fields, saw 53\n",
      "Skipping line 338: expected 48 fields, saw 53\n",
      "Skipping line 339: expected 48 fields, saw 53\n",
      "Skipping line 340: expected 48 fields, saw 53\n",
      "Skipping line 341: expected 48 fields, saw 53\n",
      "Skipping line 342: expected 48 fields, saw 53\n",
      "Skipping line 343: expected 48 fields, saw 53\n",
      "Skipping line 344: expected 48 fields, saw 53\n",
      "Skipping line 345: expected 48 fields, saw 53\n",
      "Skipping line 346: expected 48 fields, saw 53\n",
      "Skipping line 347: expected 48 fields, saw 53\n",
      "Skipping line 348: expected 48 fields, saw 53\n",
      "Skipping line 349: expected 48 fields, saw 53\n",
      "Skipping line 350: expected 48 fields, saw 53\n",
      "Skipping line 351: expected 48 fields, saw 53\n",
      "Skipping line 352: expected 48 fields, saw 53\n",
      "\n",
      "Skipping line 337: expected 57 fields, saw 62\n",
      "Skipping line 338: expected 57 fields, saw 62\n",
      "Skipping line 339: expected 57 fields, saw 62\n",
      "Skipping line 340: expected 57 fields, saw 62\n",
      "Skipping line 341: expected 57 fields, saw 62\n",
      "Skipping line 342: expected 57 fields, saw 62\n",
      "Skipping line 343: expected 57 fields, saw 62\n",
      "Skipping line 344: expected 57 fields, saw 62\n",
      "Skipping line 345: expected 57 fields, saw 62\n",
      "Skipping line 346: expected 57 fields, saw 62\n",
      "Skipping line 347: expected 57 fields, saw 62\n",
      "Skipping line 348: expected 57 fields, saw 62\n",
      "Skipping line 349: expected 57 fields, saw 62\n",
      "Skipping line 350: expected 57 fields, saw 62\n",
      "Skipping line 351: expected 57 fields, saw 62\n",
      "Skipping line 352: expected 57 fields, saw 62\n",
      "Skipping line 353: expected 57 fields, saw 62\n",
      "Skipping line 354: expected 57 fields, saw 62\n",
      "Skipping line 355: expected 57 fields, saw 62\n",
      "Skipping line 356: expected 57 fields, saw 62\n",
      "Skipping line 357: expected 57 fields, saw 62\n",
      "Skipping line 358: expected 57 fields, saw 62\n",
      "Skipping line 359: expected 57 fields, saw 62\n",
      "Skipping line 360: expected 57 fields, saw 62\n",
      "Skipping line 361: expected 57 fields, saw 62\n",
      "Skipping line 362: expected 57 fields, saw 62\n",
      "Skipping line 363: expected 57 fields, saw 62\n",
      "Skipping line 364: expected 57 fields, saw 62\n",
      "Skipping line 365: expected 57 fields, saw 62\n",
      "Skipping line 366: expected 57 fields, saw 62\n",
      "Skipping line 367: expected 57 fields, saw 62\n",
      "Skipping line 368: expected 57 fields, saw 62\n",
      "Skipping line 369: expected 57 fields, saw 62\n",
      "Skipping line 370: expected 57 fields, saw 62\n",
      "Skipping line 371: expected 57 fields, saw 62\n",
      "Skipping line 372: expected 57 fields, saw 62\n",
      "Skipping line 373: expected 57 fields, saw 62\n",
      "Skipping line 374: expected 57 fields, saw 62\n",
      "Skipping line 375: expected 57 fields, saw 62\n",
      "Skipping line 376: expected 57 fields, saw 62\n",
      "Skipping line 377: expected 57 fields, saw 62\n",
      "Skipping line 378: expected 57 fields, saw 62\n",
      "Skipping line 379: expected 57 fields, saw 62\n",
      "Skipping line 380: expected 57 fields, saw 62\n",
      "Skipping line 381: expected 57 fields, saw 62\n",
      "\n",
      "Skipping line 305: expected 57 fields, saw 72\n",
      "Skipping line 306: expected 57 fields, saw 72\n",
      "Skipping line 307: expected 57 fields, saw 72\n",
      "Skipping line 308: expected 57 fields, saw 72\n",
      "Skipping line 309: expected 57 fields, saw 72\n",
      "Skipping line 310: expected 57 fields, saw 72\n",
      "Skipping line 311: expected 57 fields, saw 72\n",
      "Skipping line 312: expected 57 fields, saw 72\n",
      "Skipping line 313: expected 57 fields, saw 72\n",
      "Skipping line 314: expected 57 fields, saw 72\n",
      "Skipping line 315: expected 57 fields, saw 72\n",
      "Skipping line 316: expected 57 fields, saw 72\n",
      "Skipping line 317: expected 57 fields, saw 72\n",
      "Skipping line 318: expected 57 fields, saw 72\n",
      "Skipping line 319: expected 57 fields, saw 72\n",
      "Skipping line 320: expected 57 fields, saw 72\n",
      "Skipping line 321: expected 57 fields, saw 72\n",
      "Skipping line 322: expected 57 fields, saw 72\n",
      "Skipping line 323: expected 57 fields, saw 72\n",
      "Skipping line 324: expected 57 fields, saw 72\n",
      "Skipping line 325: expected 57 fields, saw 72\n",
      "Skipping line 326: expected 57 fields, saw 72\n",
      "Skipping line 327: expected 57 fields, saw 72\n",
      "Skipping line 328: expected 57 fields, saw 72\n",
      "Skipping line 329: expected 57 fields, saw 72\n",
      "Skipping line 330: expected 57 fields, saw 72\n",
      "Skipping line 331: expected 57 fields, saw 72\n",
      "Skipping line 332: expected 57 fields, saw 72\n",
      "Skipping line 333: expected 57 fields, saw 72\n",
      "Skipping line 334: expected 57 fields, saw 72\n",
      "Skipping line 335: expected 57 fields, saw 72\n",
      "Skipping line 336: expected 57 fields, saw 72\n",
      "Skipping line 369: expected 57 fields, saw 62\n",
      "Skipping line 370: expected 57 fields, saw 62\n",
      "Skipping line 371: expected 57 fields, saw 62\n",
      "Skipping line 372: expected 57 fields, saw 62\n",
      "Skipping line 373: expected 57 fields, saw 62\n",
      "Skipping line 374: expected 57 fields, saw 62\n",
      "Skipping line 375: expected 57 fields, saw 62\n",
      "Skipping line 376: expected 57 fields, saw 62\n",
      "Skipping line 377: expected 57 fields, saw 62\n",
      "Skipping line 378: expected 57 fields, saw 62\n",
      "Skipping line 379: expected 57 fields, saw 62\n",
      "Skipping line 380: expected 57 fields, saw 62\n",
      "Skipping line 381: expected 57 fields, saw 62\n",
      "\n"
     ]
    },
    {
     "name": "stdout",
     "output_type": "stream",
     "text": [
      "0 Fails\n",
      "5267 Total matches\n"
     ]
    }
   ],
   "source": [
    "count = 0\n",
    "columns = ['Date','HomeTeam','AwayTeam','FTHG','FTAG','HS','AS','HST','AST','HF','AF','HC','AC','HY','AY','HR','AR','B365H','B365D','B365A']\n",
    "files = []  \n",
    "fail_files = []\n",
    "train_size = 0\n",
    "data = pd.DataFrame(columns=columns)\n",
    "for folder in folder_names:\n",
    "    for name in names:\n",
    "        try:\n",
    "            tmp = pd.read_csv('Data football/Train/' + folder + name,error_bad_lines=False)\n",
    "            if 'HST' in tmp.columns:\n",
    "                data = data.append(tmp[columns])\n",
    "                train_size += len(tmp)\n",
    "                files.insert(len(files),folder + name)\n",
    "        except:\n",
    "            count += 1\n",
    "            fail_files.insert(len(fail_files), folder + name)\n",
    "print count, 'Fails'\n",
    "print train_size, 'Total matches'\n",
    "\n",
    "data = data.dropna(axis=0,how='any')\n",
    "data['Date'] = pd.to_datetime(data.Date,dayfirst=True)\n",
    "data = data.sort_values(by='Date')"
   ]
  },
  {
   "cell_type": "code",
   "execution_count": 5,
   "metadata": {
    "collapsed": true
   },
   "outputs": [],
   "source": [
    "data.to_csv('data.csv',index=False)"
   ]
  },
  {
   "cell_type": "code",
   "execution_count": 202,
   "metadata": {
    "collapsed": true
   },
   "outputs": [],
   "source": [
    "data.to_csv('ENG.csv',index=False)"
   ]
  },
  {
   "cell_type": "code",
   "execution_count": 203,
   "metadata": {
    "collapsed": true
   },
   "outputs": [],
   "source": [
    "data = pd.read_csv('ENG.csv')"
   ]
  },
  {
   "cell_type": "code",
   "execution_count": 6,
   "metadata": {
    "collapsed": true
   },
   "outputs": [],
   "source": [
    "data = pd.read_csv('data.csv')"
   ]
  },
  {
   "cell_type": "code",
   "execution_count": 204,
   "metadata": {
    "collapsed": true
   },
   "outputs": [],
   "source": [
    "teams_list = Counter(data['HomeTeam']).keys()"
   ]
  },
  {
   "cell_type": "code",
   "execution_count": 205,
   "metadata": {},
   "outputs": [
    {
     "data": {
      "application/vnd.jupyter.widget-view+json": {
       "model_id": "2cd64ce7c7404884a61c546c200fdfff"
      }
     },
     "metadata": {},
     "output_type": "display_data"
    },
    {
     "name": "stdout",
     "output_type": "stream",
     "text": [
      "\n"
     ]
    }
   ],
   "source": [
    "for team in tqdm_notebook(teams_list):\n",
    "    home_matches = pd.DataFrame(data.loc[data['HomeTeam'] == team])\n",
    "    away_matches = pd.DataFrame(data.loc[data['AwayTeam'] == team])\n",
    "    columns = away_matches.columns\n",
    "    \n",
    "    \n",
    "    for i in xrange(3,len(columns)-3,2):\n",
    "        tmp = copy(away_matches.loc[:,columns[i]])\n",
    "        away_matches.loc[:,columns[i]] = away_matches.loc[:,columns[i + 1]]\n",
    "        away_matches.loc[:,columns[i + 1]] = tmp\n",
    "    tmp = copy(away_matches.loc[:,'B365H'])\n",
    "    away_matches.loc[:,'B365H'] = away_matches.loc[:,'B365A']\n",
    "    away_matches.loc[:,'B365A'] = tmp\n",
    "    home_matches.loc[:,'location'] = np.ones(len(home_matches))\n",
    "    away_matches.loc[:,'location'] = np.zeros(len(away_matches))\n",
    "    \n",
    "    \n",
    "    \n",
    "    team_data = pd.concat([home_matches,away_matches])\n",
    "    team_data = team_data.sort_values(by='Date')\n",
    "    \n",
    "    #team_data.to_csv('Teams/' + team + '.csv',index=False)\n",
    "    team_data.to_csv('TeamsENG/' + team + '.csv',index=False)\n",
    "   "
   ]
  },
  {
   "cell_type": "code",
   "execution_count": 206,
   "metadata": {
    "scrolled": true
   },
   "outputs": [
    {
     "data": {
      "application/vnd.jupyter.widget-view+json": {
       "model_id": "c52eeedf1917446395983160be0594f1"
      }
     },
     "metadata": {},
     "output_type": "display_data"
    },
    {
     "name": "stdout",
     "output_type": "stream",
     "text": [
      "\n"
     ]
    }
   ],
   "source": [
    "N_history = 10\n",
    "data.loc[:,'usable'] = np.zeros((len(data),1))\n",
    "data.head()\n",
    "columns = xrange(15 * 2 * (N_history - 1) + 3)\n",
    "df = pd.DataFrame(columns=columns)\n",
    "for i in tqdm_notebook(xrange(len(data))):    \n",
    "\n",
    "    #home = pd.read_csv('Teams/' + data.loc[i,'HomeTeam'] + '.csv')\n",
    "    #away = pd.read_csv('Teams/' + data.loc[i,'AwayTeam'] + '.csv')\n",
    "    home = pd.read_csv('TeamsENG/' + data.loc[i,'HomeTeam'] + '.csv')\n",
    "    away = pd.read_csv('TeamsENG/' + data.loc[i,'AwayTeam'] + '.csv')\n",
    "    home_match = home.loc[home['Date'] == data.loc[i,'Date']]\n",
    "    away_match = away.loc[away['Date'] == data.loc[i,'Date']]\n",
    "    upper_index_home = home_match.index[0]\n",
    "    upper_index_away = away_match.index[0]\n",
    "    lower_index_home = upper_index_home - N_history + 1\n",
    "    lower_index_away = upper_index_away - N_history + 1\n",
    "    if lower_index_home < 0 or lower_index_away < 0:\n",
    "        continue\n",
    "    slice_home = home.loc[lower_index_home:upper_index_home - 1]\n",
    "    slice_away = away.loc[lower_index_away:upper_index_away - 1]\n",
    "    slice_home = slice_home.drop(['Date','HomeTeam','AwayTeam','B365H','B365D','B365A'],axis=1)\n",
    "    slice_away = slice_away.drop(['Date','HomeTeam','AwayTeam','B365H','B365D','B365A'],axis=1)\n",
    "    home_features = np.asarray(slice_home)\n",
    "    away_features = np.asarray(slice_away)\n",
    "    home_features = home_features.reshape(home_features.shape[0] * home_features.shape[1])\n",
    "    away_features = away_features.reshape(away_features.shape[0] * away_features.shape[1])\n",
    "    coeff = data.loc[i,['B365H','B365D','B365A']]\n",
    "    features = np.hstack((home_features,away_features,coeff))\n",
    "    ser = pd.Series(features,index=columns)\n",
    "    df = df.append(ser,ignore_index=True)\n",
    "    data.loc[i,'usable'] = 1\n",
    "    \n",
    "df.to_csv('df_10_ENG.csv',index=False)\n",
    "data.to_csv('data_10_ENG.csv', index=False)"
   ]
  },
  {
   "cell_type": "code",
   "execution_count": 3,
   "metadata": {
    "collapsed": true
   },
   "outputs": [],
   "source": [
    "'''\n",
    "data = pd.read_csv('data_3_ENG.csv')\n",
    "data = data.loc[data['usable'] == 1.0]\n",
    "df = pd.read_csv('df_3_ENG.csv')\n",
    "\n",
    "'''\n",
    "data = pd.read_csv('data_3_.csv')\n",
    "data = data.loc[data['usable'] == 1.0]\n",
    "df = pd.read_csv('df_3_.csv')\n",
    "\n",
    "\n",
    "for i in xrange(len(df)):\n",
    "    if df.loc[i,'60'] == 0:\n",
    "        df.loc[i,'60'] = 1 - 1 / df.loc[i,'61'] - df.loc[i,'62']\n",
    "for i in xrange(len(df)):\n",
    "    if df.loc[i,'61'] == 0:\n",
    "        df.loc[i,'61'] = 1 - 1 / df.loc[i,'60'] - df.loc[i,'62']\n",
    "for i in xrange(len(df)):\n",
    "    if df.loc[i,'62'] == 0:\n",
    "        df.loc[i,'62'] = 1 - 1 / df.loc[i,'60'] - df.loc[i,'61']\n",
    "\n",
    "data.loc[:,'result'] = np.sign(data['FTHG'] - data['FTAG']) + 1\n",
    "data.index = range(len(data))\n",
    "df.loc[:,'result'] = data.loc[:,'result']\n",
    "results = np.array(data.result)\n",
    "prob = np.zeros((results.shape[0],3))\n",
    "for i in xrange(results.shape[0]):\n",
    "    if results[i] == 2:\n",
    "        prob[i] = [1,0,0]\n",
    "    else:\n",
    "        if results[i] == 1:\n",
    "            prob[i] = [0,1,0]\n",
    "        else:\n",
    "            prob[i] = [0,0,1]\n",
    "X = np.array(df.iloc[:,:-1])\n",
    "Y = np.array(df.iloc[:,-1:])"
   ]
  },
  {
   "cell_type": "markdown",
   "metadata": {},
   "source": [
    "# Подготовка данных\n",
    "1) Данные были получены с сайта championat.com путем парсинга страниц"
   ]
  },
  {
   "cell_type": "markdown",
   "metadata": {},
   "source": [
    "2) Данные с коэффициентами были загружены с сайта букмекерской конторы"
   ]
  },
  {
   "cell_type": "markdown",
   "metadata": {},
   "source": [
    "3) Объединили две таблицы"
   ]
  },
  {
   "cell_type": "markdown",
   "metadata": {},
   "source": [
    "4) Построили \"временное окно для каждого матча\", т.е набор признаков - статистика прошлых матчей"
   ]
  },
  {
   "cell_type": "markdown",
   "metadata": {},
   "source": [
    "# Формат данных\n",
    "Окно 3 матча "
   ]
  },
  {
   "cell_type": "code",
   "execution_count": 27,
   "metadata": {},
   "outputs": [
    {
     "data": {
      "text/html": [
       "<div>\n",
       "<style>\n",
       "    .dataframe thead tr:only-child th {\n",
       "        text-align: right;\n",
       "    }\n",
       "\n",
       "    .dataframe thead th {\n",
       "        text-align: left;\n",
       "    }\n",
       "\n",
       "    .dataframe tbody tr th {\n",
       "        vertical-align: top;\n",
       "    }\n",
       "</style>\n",
       "<table border=\"1\" class=\"dataframe\">\n",
       "  <thead>\n",
       "    <tr style=\"text-align: right;\">\n",
       "      <th></th>\n",
       "      <th>0</th>\n",
       "      <th>1</th>\n",
       "      <th>2</th>\n",
       "      <th>3</th>\n",
       "      <th>4</th>\n",
       "      <th>5</th>\n",
       "      <th>6</th>\n",
       "      <th>7</th>\n",
       "      <th>8</th>\n",
       "      <th>9</th>\n",
       "      <th>...</th>\n",
       "      <th>54</th>\n",
       "      <th>55</th>\n",
       "      <th>56</th>\n",
       "      <th>57</th>\n",
       "      <th>58</th>\n",
       "      <th>59</th>\n",
       "      <th>60</th>\n",
       "      <th>61</th>\n",
       "      <th>62</th>\n",
       "      <th>result</th>\n",
       "    </tr>\n",
       "  </thead>\n",
       "  <tbody>\n",
       "    <tr>\n",
       "      <th>0</th>\n",
       "      <td>2.0</td>\n",
       "      <td>2.0</td>\n",
       "      <td>8.0</td>\n",
       "      <td>5.0</td>\n",
       "      <td>5.0</td>\n",
       "      <td>2.0</td>\n",
       "      <td>12.0</td>\n",
       "      <td>14.0</td>\n",
       "      <td>5.0</td>\n",
       "      <td>3.0</td>\n",
       "      <td>...</td>\n",
       "      <td>9.0</td>\n",
       "      <td>1.0</td>\n",
       "      <td>3.0</td>\n",
       "      <td>0.0</td>\n",
       "      <td>0.0</td>\n",
       "      <td>0.0</td>\n",
       "      <td>1.727</td>\n",
       "      <td>3.50</td>\n",
       "      <td>4.000</td>\n",
       "      <td>1.0</td>\n",
       "    </tr>\n",
       "    <tr>\n",
       "      <th>1</th>\n",
       "      <td>1.0</td>\n",
       "      <td>1.0</td>\n",
       "      <td>6.0</td>\n",
       "      <td>9.0</td>\n",
       "      <td>3.0</td>\n",
       "      <td>5.0</td>\n",
       "      <td>12.0</td>\n",
       "      <td>16.0</td>\n",
       "      <td>8.0</td>\n",
       "      <td>9.0</td>\n",
       "      <td>...</td>\n",
       "      <td>12.0</td>\n",
       "      <td>2.0</td>\n",
       "      <td>1.0</td>\n",
       "      <td>0.0</td>\n",
       "      <td>0.0</td>\n",
       "      <td>0.0</td>\n",
       "      <td>1.800</td>\n",
       "      <td>3.25</td>\n",
       "      <td>4.000</td>\n",
       "      <td>2.0</td>\n",
       "    </tr>\n",
       "    <tr>\n",
       "      <th>2</th>\n",
       "      <td>1.0</td>\n",
       "      <td>1.0</td>\n",
       "      <td>12.0</td>\n",
       "      <td>11.0</td>\n",
       "      <td>6.0</td>\n",
       "      <td>6.0</td>\n",
       "      <td>13.0</td>\n",
       "      <td>19.0</td>\n",
       "      <td>7.0</td>\n",
       "      <td>5.0</td>\n",
       "      <td>...</td>\n",
       "      <td>8.0</td>\n",
       "      <td>2.0</td>\n",
       "      <td>3.0</td>\n",
       "      <td>0.0</td>\n",
       "      <td>0.0</td>\n",
       "      <td>0.0</td>\n",
       "      <td>1.727</td>\n",
       "      <td>3.25</td>\n",
       "      <td>4.333</td>\n",
       "      <td>1.0</td>\n",
       "    </tr>\n",
       "    <tr>\n",
       "      <th>3</th>\n",
       "      <td>2.0</td>\n",
       "      <td>2.0</td>\n",
       "      <td>10.0</td>\n",
       "      <td>8.0</td>\n",
       "      <td>3.0</td>\n",
       "      <td>2.0</td>\n",
       "      <td>11.0</td>\n",
       "      <td>20.0</td>\n",
       "      <td>11.0</td>\n",
       "      <td>4.0</td>\n",
       "      <td>...</td>\n",
       "      <td>2.0</td>\n",
       "      <td>1.0</td>\n",
       "      <td>0.0</td>\n",
       "      <td>0.0</td>\n",
       "      <td>0.0</td>\n",
       "      <td>0.0</td>\n",
       "      <td>1.615</td>\n",
       "      <td>3.40</td>\n",
       "      <td>5.000</td>\n",
       "      <td>2.0</td>\n",
       "    </tr>\n",
       "    <tr>\n",
       "      <th>4</th>\n",
       "      <td>1.0</td>\n",
       "      <td>1.0</td>\n",
       "      <td>7.0</td>\n",
       "      <td>13.0</td>\n",
       "      <td>6.0</td>\n",
       "      <td>10.0</td>\n",
       "      <td>15.0</td>\n",
       "      <td>13.0</td>\n",
       "      <td>8.0</td>\n",
       "      <td>6.0</td>\n",
       "      <td>...</td>\n",
       "      <td>2.0</td>\n",
       "      <td>2.0</td>\n",
       "      <td>3.0</td>\n",
       "      <td>0.0</td>\n",
       "      <td>0.0</td>\n",
       "      <td>0.0</td>\n",
       "      <td>2.200</td>\n",
       "      <td>3.25</td>\n",
       "      <td>2.800</td>\n",
       "      <td>0.0</td>\n",
       "    </tr>\n",
       "  </tbody>\n",
       "</table>\n",
       "<p>5 rows × 64 columns</p>\n",
       "</div>"
      ],
      "text/plain": [
       "     0    1     2     3    4     5     6     7     8    9   ...      54   55  \\\n",
       "0  2.0  2.0   8.0   5.0  5.0   2.0  12.0  14.0   5.0  3.0   ...     9.0  1.0   \n",
       "1  1.0  1.0   6.0   9.0  3.0   5.0  12.0  16.0   8.0  9.0   ...    12.0  2.0   \n",
       "2  1.0  1.0  12.0  11.0  6.0   6.0  13.0  19.0   7.0  5.0   ...     8.0  2.0   \n",
       "3  2.0  2.0  10.0   8.0  3.0   2.0  11.0  20.0  11.0  4.0   ...     2.0  1.0   \n",
       "4  1.0  1.0   7.0  13.0  6.0  10.0  15.0  13.0   8.0  6.0   ...     2.0  2.0   \n",
       "\n",
       "    56   57   58   59     60    61     62  result  \n",
       "0  3.0  0.0  0.0  0.0  1.727  3.50  4.000     1.0  \n",
       "1  1.0  0.0  0.0  0.0  1.800  3.25  4.000     2.0  \n",
       "2  3.0  0.0  0.0  0.0  1.727  3.25  4.333     1.0  \n",
       "3  0.0  0.0  0.0  0.0  1.615  3.40  5.000     2.0  \n",
       "4  3.0  0.0  0.0  0.0  2.200  3.25  2.800     0.0  \n",
       "\n",
       "[5 rows x 64 columns]"
      ]
     },
     "execution_count": 27,
     "metadata": {},
     "output_type": "execute_result"
    }
   ],
   "source": [
    "df.head()"
   ]
  },
  {
   "cell_type": "markdown",
   "metadata": {},
   "source": [
    "Статистика за матч состоит из голов, ударов по воротам, нарушений и т.д"
   ]
  },
  {
   "cell_type": "code",
   "execution_count": null,
   "metadata": {
    "collapsed": true
   },
   "outputs": [],
   "source": []
  },
  {
   "cell_type": "code",
   "execution_count": 4,
   "metadata": {
    "collapsed": true
   },
   "outputs": [],
   "source": [
    "gkf = KFold(n_splits=5, shuffle=True)\n",
    "model = RandomForestClassifier(n_estimators=100,n_jobs=-1)\n",
    "logic_prob_model = LogisticRegression()"
   ]
  },
  {
   "cell_type": "code",
   "execution_count": 5,
   "metadata": {},
   "outputs": [
    {
     "name": "stderr",
     "output_type": "stream",
     "text": [
      "D:\\Anaconda\\lib\\site-packages\\sklearn\\utils\\validation.py:526: DataConversionWarning: A column-vector y was passed when a 1d array was expected. Please change the shape of y to (n_samples, ), for example using ravel().\n",
      "  y = column_or_1d(y, warn=True)\n",
      "D:\\Anaconda\\lib\\site-packages\\ipykernel_launcher.py:5: DataConversionWarning: A column-vector y was passed when a 1d array was expected. Please change the shape of y to (n_samples,), for example using ravel().\n",
      "  \"\"\"\n"
     ]
    },
    {
     "name": "stdout",
     "output_type": "stream",
     "text": [
      "Acc 0.48698017878\n",
      "Roc auc\n",
      "0.668465289175\n",
      "0.543310489923\n",
      "0.675998431668\n",
      "\n",
      "Acc 0.484065293432\n",
      "Roc auc\n",
      "0.677086079569\n",
      "0.537800645774\n",
      "0.678944115252\n",
      "\n",
      "Acc 0.475806451613\n",
      "Roc auc\n",
      "0.657524745994\n",
      "0.541067415133\n",
      "0.667636209897\n",
      "\n",
      "Acc 0.483773804897\n",
      "Roc auc\n",
      "0.663795136325\n",
      "0.547115453273\n",
      "0.675663652234\n",
      "\n",
      "Acc 0.497959580257\n",
      "Roc auc\n",
      "0.676589560495\n",
      "0.539258882161\n",
      "0.685192764527\n",
      "\n"
     ]
    }
   ],
   "source": [
    "for train, test in gkf.split(X, Y):\n",
    "    X_train, y_train = X[train], Y[train]\n",
    "    X_test, y_test = X[test], Y[test]     \n",
    "    logic_prob_model.fit(X_train, y_train)\n",
    "    model.fit(X_train,y_train)\n",
    "    prediction = model.predict(X_test)\n",
    "    logic_probs = logic_prob_model.predict_proba(X_test) \n",
    "    print 'Acc', accuracy_score(y_test,prediction)\n",
    "    print 'Roc auc'\n",
    "    print roc_auc_score(y_true=prob[test,0], y_score=logic_probs[:,2])\n",
    "    print roc_auc_score(y_true=prob[test,1], y_score=logic_probs[:,1])\n",
    "    print roc_auc_score(y_true=prob[test,2], y_score=logic_probs[:,0])\n",
    "    print "
   ]
  },
  {
   "cell_type": "code",
   "execution_count": 9,
   "metadata": {},
   "outputs": [
    {
     "name": "stdout",
     "output_type": "stream",
     "text": [
      "Accuracy 0.539726027397\n",
      "Roc auc\n",
      "0.717484563692\n",
      "0.547478015337\n",
      "0.749752606411\n"
     ]
    }
   ],
   "source": [
    "X = np.array(df.iloc[:,:-1])\n",
    "Y = np.array(df.iloc[:,-1:])\n",
    "split = 50000\n",
    "logic_prob_model = LogisticRegression(C=0.01)\n",
    "#X_train, X_test,y_train, y_test = train_test_split(X,Y)\n",
    "#split = X_train.shape[0]\n",
    "\n",
    "\n",
    "X_train = X[:split]\n",
    "y_train = Y[:split]\n",
    "X_test = X[split:]\n",
    "y_test = Y[split:]\n",
    "\n",
    "logic_prob_model.fit(X_train,y_train)\n",
    "print 'Accuracy', logic_prob_model.score(X_test,y_test)\n",
    "\n",
    "\n",
    "logic_prob_model.fit(X_train, y_train)\n",
    "logic_probs = logic_prob_model.predict_proba(X_test) \n",
    "print 'Roc auc'\n",
    "print roc_auc_score(y_true=prob[split:,0], y_score=logic_probs[:,2])\n",
    "print roc_auc_score(y_true=prob[split:,1], y_score=logic_probs[:,1])\n",
    "print roc_auc_score(y_true=prob[split:,2], y_score=logic_probs[:,0])\n",
    "\n"
   ]
  },
  {
   "cell_type": "markdown",
   "metadata": {},
   "source": [
    "# Победы хозяев"
   ]
  },
  {
   "cell_type": "code",
   "execution_count": 12,
   "metadata": {},
   "outputs": [
    {
     "data": {
      "text/plain": [
       "[<matplotlib.lines.Line2D at 0x11cbc080>]"
      ]
     },
     "execution_count": 12,
     "metadata": {},
     "output_type": "execute_result"
    },
    {
     "data": {
      "image/png": "[encoded data removed]",
      "text/plain": [
       "<matplotlib.figure.Figure at 0x11cbc5c0>"
      ]
     },
     "metadata": {},
     "output_type": "display_data"
    }
   ],
   "source": [
    "plt.rcParams['figure.figsize'] = (15,10)\n",
    "fpr, tpr, _ = roc_curve(prob[split:,0], logic_probs[:,2])\n",
    "roc_auc = auc(fpr, tpr)\n",
    "plt.plot(fpr, tpr, color='darkorange',\n",
    "         lw=2, label='ROC curve (area = %0.2f)' % roc_auc)\n",
    "plt.plot([0, 1], [0, 1], color='navy', lw=2, linestyle='--')"
   ]
  },
  {
   "cell_type": "markdown",
   "metadata": {},
   "source": [
    "# Ничьи"
   ]
  },
  {
   "cell_type": "code",
   "execution_count": 13,
   "metadata": {},
   "outputs": [
    {
     "data": {
      "text/plain": [
       "[<matplotlib.lines.Line2D at 0x14b54400>]"
      ]
     },
     "execution_count": 13,
     "metadata": {},
     "output_type": "execute_result"
    },
    {
     "data": {
      "image/png": "[encoded data removed]",
      "text/plain": [
       "<matplotlib.figure.Figure at 0x14b54470>"
      ]
     },
     "metadata": {},
     "output_type": "display_data"
    }
   ],
   "source": [
    "plt.rcParams['figure.figsize'] = (15,10)\n",
    "fpr, tpr, _ = roc_curve(prob[split:,1], logic_probs[:,1])\n",
    "roc_auc = auc(fpr, tpr)\n",
    "plt.plot(fpr, tpr, color='darkorange',\n",
    "         lw=2, label='ROC curve (area = %0.2f)' % roc_auc)\n",
    "plt.plot([0, 1], [0, 1], color='navy', lw=2, linestyle='--')"
   ]
  },
  {
   "cell_type": "markdown",
   "metadata": {},
   "source": [
    "# Победы гостей"
   ]
  },
  {
   "cell_type": "code",
   "execution_count": 14,
   "metadata": {},
   "outputs": [
    {
     "data": {
      "text/plain": [
       "[<matplotlib.lines.Line2D at 0x148f9518>]"
      ]
     },
     "execution_count": 14,
     "metadata": {},
     "output_type": "execute_result"
    },
    {
     "data": {
      "image/png": "[encoded data removed]",
      "text/plain": [
       "<matplotlib.figure.Figure at 0x148f9128>"
      ]
     },
     "metadata": {},
     "output_type": "display_data"
    }
   ],
   "source": [
    "plt.rcParams['figure.figsize'] = (15,10)\n",
    "fpr, tpr, _ = roc_curve(prob[split:,2], logic_probs[:,0])\n",
    "roc_auc = auc(fpr, tpr)\n",
    "plt.plot(fpr, tpr, color='darkorange',\n",
    "         lw=2, label='ROC curve (area = %0.2f)' % roc_auc)\n",
    "plt.plot([0, 1], [0, 1], color='navy', lw=2, linestyle='--')"
   ]
  },
  {
   "cell_type": "code",
   "execution_count": 19,
   "metadata": {
    "collapsed": true
   },
   "outputs": [],
   "source": [
    "weigts = logic_prob_model.coef_[2]"
   ]
  },
  {
   "cell_type": "markdown",
   "metadata": {},
   "source": [
    "Явная зависимость предсказания от коэффициентов букмекеров"
   ]
  },
  {
   "cell_type": "code",
   "execution_count": 20,
   "metadata": {},
   "outputs": [
    {
     "data": {
      "image/png": "[encoded data removed]",
      "text/plain": [
       "<matplotlib.figure.Figure at 0x127a75f8>"
      ]
     },
     "metadata": {},
     "output_type": "display_data"
    }
   ],
   "source": [
    "plt.style.use('ggplot')\n",
    "plt.rcParams['figure.figsize'] = (25,10)\n",
    "plt.figure()\n",
    "plt.bar(range(len(weigts)),weigts)\n",
    "plt.show()"
   ]
  },
  {
   "cell_type": "markdown",
   "metadata": {},
   "source": [
    "# \"Бизнес\" параметр"
   ]
  },
  {
   "cell_type": "code",
   "execution_count": 22,
   "metadata": {
    "scrolled": true
   },
   "outputs": [
    {
     "data": {
      "application/vnd.jupyter.widget-view+json": {
       "model_id": "0c28dfb7167a4e929d9facc3c183bd71"
      }
     },
     "metadata": {},
     "output_type": "display_data"
    },
    {
     "name": "stdout",
     "output_type": "stream",
     "text": [
      "\n",
      "max cash 34293.3228475\n",
      "min cash 6369.38656718\n",
      "avg cash 14426.3310501\n",
      "result cash 10703.1045767\n"
     ]
    }
   ],
   "source": [
    "q = 10000\n",
    "win_bank = 0.0\n",
    "cash = []\n",
    "max_bet = q / 5\n",
    "check_data = pd.DataFrame(columns=['My prob', 'Book prob', 'Coeff', 'Bet size', 'Match result', 'Total cash', 'Bet result'])\n",
    "# 0 - гости, 1 - ничья, 2 - хозяева\n",
    "prediction_type = 2\n",
    "# 62 - гости, 61 - ничья, 60 - хозяева\n",
    "ind = 62 - prediction_type\n",
    "\n",
    "\n",
    "for i in tqdm_notebook(xrange(len(y_test))):\n",
    "    bet_size = 0\n",
    "    bet_result = ''\n",
    "    if logic_probs[i,prediction_type] > 1 / X_test[i,ind]:# and X_test[i,ind] > 3.0:        \n",
    "        bet_size = q * (X_test[i,ind] * logic_probs[i][prediction_type] - 1) / (X_test[i,ind] - 1)\n",
    "        if bet_size > max_bet:\n",
    "            bet_size = max_bet\n",
    "        q -= bet_size\n",
    "        if y_test[i] == prediction_type:\n",
    "            q += bet_size * X_test[i,ind]\n",
    "            bet_result = 'WIN'\n",
    "        else:\n",
    "            bet_result = 'LOSE'\n",
    "    else:\n",
    "        bet_result = 'NO BET'\n",
    "    max_bet = q / 5\n",
    "    ser = pd.Series([logic_probs[i][prediction_type], 1 / X_test[i,ind], X_test[i,ind], bet_size, y_test[i],q, bet_result],index=check_data.columns)\n",
    "    check_data = check_data.append(ser,ignore_index=True)\n",
    "    cash.insert(len(cash), q)\n",
    "\n",
    "check_data.loc[check_data['Match result'] == 2.0, 'Match result'] = 'HOME'\n",
    "check_data.loc[check_data['Match result'] == 1.0, 'Match result'] = 'DRAW'\n",
    "check_data.loc[check_data['Match result'] == 0.0, 'Match result'] = 'AWAY'\n",
    "check_data.loc[:,'HomeTeam'] = data.loc[split:].HomeTeam.values\n",
    "check_data.loc[:,'AwayTeam'] = data.loc[split:].AwayTeam.values\n",
    "check_data.loc[:,'Goals dif'] = data.loc[split:].FTHG.values - data.loc[split:].FTAG.values\n",
    "print 'max cash', np.max(cash)\n",
    "print 'min cash', np.min(cash)\n",
    "print 'avg cash', np.mean(cash)\n",
    "print 'result cash', q\n",
    "\n"
   ]
  },
  {
   "cell_type": "code",
   "execution_count": 23,
   "metadata": {},
   "outputs": [
    {
     "data": {
      "image/png": "[encoded data removed]",
      "text/plain": [
       "<matplotlib.figure.Figure at 0xf73f710>"
      ]
     },
     "metadata": {},
     "output_type": "display_data"
    }
   ],
   "source": [
    "plt.style.use('ggplot')\n",
    "plt.rcParams['figure.figsize'] = (25,10)\n",
    "plt.figure()\n",
    "Y = check_data['Total cash']\n",
    "X = range(len(check_data))\n",
    "plt.plot(X,Y)\n",
    "plt.show()\n"
   ]
  },
  {
   "cell_type": "code",
   "execution_count": 24,
   "metadata": {},
   "outputs": [
    {
     "data": {
      "text/plain": [
       "Counter({'LOSE': 297, 'NO BET': 873, 'WIN': 290})"
      ]
     },
     "execution_count": 24,
     "metadata": {},
     "output_type": "execute_result"
    }
   ],
   "source": [
    "Counter(check_data['Bet result'])"
   ]
  }
 ],
 "metadata": {
  "kernelspec": {
   "display_name": "Python 2",
   "language": "python",
   "name": "python2"
  },
  "language_info": {
   "codemirror_mode": {
    "name": "ipython",
    "version": 2
   },
   "file_extension": ".py",
   "mimetype": "text/x-python",
   "name": "python",
   "nbconvert_exporter": "python",
   "pygments_lexer": "ipython2",
   "version": "2.7.13"
  }
 },
 "nbformat": 4,
 "nbformat_minor": 2
}
